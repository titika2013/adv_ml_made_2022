{
  "cells": [
    {
      "cell_type": "markdown",
      "metadata": {
        "id": "view-in-github",
        "colab_type": "text"
      },
      "source": [
        "<a href=\"https://colab.research.google.com/github/titika2013/adv_ml_made_2022/blob/main/made_ml_3.ipynb\" target=\"_parent\"><img src=\"https://colab.research.google.com/assets/colab-badge.svg\" alt=\"Open In Colab\"/></a>"
      ]
    },
    {
      "cell_type": "code",
      "execution_count": 1,
      "metadata": {
        "id": "fuALEjtv-jHe"
      },
      "outputs": [],
      "source": [
        "%%capture\n",
        "pip install jiwer"
      ]
    },
    {
      "cell_type": "code",
      "execution_count": 2,
      "metadata": {
        "colab": {
          "base_uri": "https://localhost:8080/"
        },
        "id": "ISJssRG8p_7T",
        "outputId": "77ebf307-7008-421a-e159-5b737ce29cb4"
      },
      "outputs": [
        {
          "output_type": "stream",
          "name": "stdout",
          "text": [
            "[nltk_data] Downloading package punkt to /root/nltk_data...\n",
            "[nltk_data]   Unzipping tokenizers/punkt.zip.\n"
          ]
        },
        {
          "output_type": "execute_result",
          "data": {
            "text/plain": [
              "True"
            ]
          },
          "metadata": {},
          "execution_count": 2
        }
      ],
      "source": [
        "import numpy as np\n",
        "import re\n",
        "\n",
        "from jiwer import wer\n",
        "import nltk\n",
        "import tqdm\n",
        "\n",
        "nltk.download('punkt')\n"
      ]
    },
    {
      "cell_type": "code",
      "execution_count": 3,
      "metadata": {
        "colab": {
          "base_uri": "https://localhost:8080/"
        },
        "id": "p3bWdz5IVvti",
        "outputId": "6a530423-8615-4215-fca8-d6305af07500"
      },
      "outputs": [
        {
          "output_type": "stream",
          "name": "stdout",
          "text": [
            "Mounted at /content/drive\n"
          ]
        }
      ],
      "source": [
        "from google.colab import drive\n",
        "drive.mount('/content/drive')"
      ]
    },
    {
      "cell_type": "markdown",
      "metadata": {
        "id": "IYxtR6mpVv1k"
      },
      "source": [
        "##Реализуйте базовый частотный метод по Шерлоку Холмсу:"
      ]
    },
    {
      "cell_type": "markdown",
      "metadata": {
        "id": "wDMwiTW3yB8D"
      },
      "source": [
        "- подсчитайте частоты букв по корпусам (пунктуацию и капитализацию можно просто опустить, а вот пробелы лучше оставить);\n",
        "- возьмите какие-нибудь тестовые тексты (нужно взять по меньшей мере 2-3 предложения, иначе вряд ли сработает), зашифруйте их посредством случайной перестановки символов;\n",
        "-расшифруйте их таким частотным методом.\n"
      ]
    },
    {
      "cell_type": "code",
      "execution_count": 4,
      "metadata": {
        "id": "W0HcRWHSVm7V"
      },
      "outputs": [],
      "source": [
        "def prepare_text(text):\n",
        "    text = text.lower()\n",
        "    tokenizer = nltk.tokenize.RegexpTokenizer(r'\\w+')\n",
        "    nltk_tokens = tokenizer.tokenize(text)\n",
        "    return ' '.join(nltk_tokens)\n"
      ]
    },
    {
      "cell_type": "code",
      "execution_count": 5,
      "metadata": {
        "id": "hYJ_DYajqLOz"
      },
      "outputs": [],
      "source": [
        "alphabet = \" абвгдеёжзийклмнопрстуфхцчшщъыьэюя\"\n",
        "\n",
        "\n",
        "# #  Caesar Cipher \n",
        "# def caesar_cipher(message, LETTERS=alphabet):\n",
        "#     for key in range(len(LETTERS)):\n",
        "#         translated = ''\n",
        "#         for symbol in message:\n",
        "#             if symbol in LETTERS:\n",
        "#                 num = LETTERS.find(symbol)\n",
        "#                 num = num - key\n",
        "#                 if num < 0:\n",
        "#                     num = num + len(LETTERS)\n",
        "#                 translated = translated + LETTERS[num]\n",
        "#             else:\n",
        "#                 translated = translated + symbol\n",
        "#     return (key, translated)\n",
        "\n",
        "\n",
        "def random_cipher(text, alphabet=alphabet):\n",
        "    np.random.seed(42)\n",
        "    ch_r_dict = {}\n",
        "    for i in range(len(alphabet)):\n",
        "        \n",
        "        ch_r_dict[alphabet[i]] = alphabet[np.random.permutation(len(alphabet))[i]]\n",
        "    return ''.join([ch_r_dict.get(symbol, '') for symbol in text])\n",
        "\n",
        "\n",
        "def decipher_by_f(text, orig_freqs, n=1):\n",
        "    new_t_freqs = nltk.FreqDist(nltk.ngrams(text, n))\n",
        "    text_freqs_sorted = sorted(new_t_freqs, key=new_t_freqs.get, reverse=True)\n",
        "    preg_freqs_sorted = sorted(orig_freqs, key=orig_freqs.get, reverse=True)\n",
        "    dict_vals = dict(list(zip(text_freqs_sorted, preg_freqs_sorted)))\n",
        "    out_str = \"\"\n",
        "    for i, val in enumerate(nltk.ngrams(text, n)):\n",
        "        if i % n == 0:\n",
        "            out_str += \"\".join(dict_vals[val])\n",
        "        else:\n",
        "            out_str += \"\"\n",
        "    return out_str\n",
        "\n",
        "\n",
        "def text_ciph(text, mapp):\n",
        "    return ''.join(mapp[x] for x in text)\n"
      ]
    },
    {
      "cell_type": "code",
      "execution_count": 6,
      "metadata": {
        "id": "vpNBRNNncHHp"
      },
      "outputs": [],
      "source": [
        "text_sample = \"\"\"Мой дядя самых честных правил,\n",
        "Когда не в шутку занемог,\n",
        "Он уважать себя заставил\n",
        "И лучше выдумать не мог.\n",
        "Его пример другим наука;\n",
        "Но, боже мой, какая скука\n",
        "С больным сидеть и день и ночь,\n",
        "Не отходя ни шагу прочь!\n",
        "Какое низкое коварство\n",
        "Полуживого забавлять,\n",
        "Ему подушки поправлять,\n",
        "Печально подносить лекарство,\n",
        "Вздыхать и думать про себя:\n",
        "Когда же черт возьмет тебя!\n",
        "\n",
        "Так думал молодой повеса,\n",
        "Летя в пыли на почтовых,\n",
        "Всевышней волею Зевеса\n",
        "Наследник всех своих родных.\n",
        "Друзья Людмилы и Руслана!\n",
        "С героем моего романа\n",
        "Без предисловий, сей же час\n",
        "Позвольте познакомить вас:\n",
        "Онегин, добрый мой приятель,\n",
        "Родился на брегах Невы,\n",
        "Где, может быть, родились вы\n",
        "Или блистали, мой читатель;\n",
        "Там некогда гулял и я:\n",
        "Но вреден север для меня\"\"\""
      ]
    },
    {
      "cell_type": "code",
      "execution_count": 7,
      "metadata": {
        "id": "SH4edfpPV8zN"
      },
      "outputs": [],
      "source": [
        "prep_text = prepare_text(text_sample)\n",
        "characters_freq = nltk.FreqDist(nltk.ngrams(prep_text, 1))"
      ]
    },
    {
      "cell_type": "code",
      "execution_count": 8,
      "metadata": {
        "id": "w0G1YDVIcCrx"
      },
      "outputs": [],
      "source": [
        "#caesar_ciphered_text = caesar_cipher(prep_text)[1]\n",
        "random_ciphered = random_cipher(prep_text)"
      ]
    },
    {
      "cell_type": "code",
      "execution_count": 9,
      "metadata": {
        "id": "nJ6g5hVqpM5Y"
      },
      "outputs": [],
      "source": [
        "#caesar_hypothesis = decipher_by_f(caesar_ciphered_text, characters_freq, n=1)\n",
        "hypothesis = decipher_by_f(random_ciphered, characters_freq, n=1)"
      ]
    },
    {
      "cell_type": "code",
      "execution_count": 10,
      "metadata": {
        "colab": {
          "base_uri": "https://localhost:8080/",
          "height": 70
        },
        "id": "FMi-sx_Q31T5",
        "outputId": "834352a4-9b0d-4bc7-dbfc-0246d07af3ed"
      },
      "outputs": [
        {
          "output_type": "execute_result",
          "data": {
            "text/plain": [
              "'оеи тити лноьт яалодьт рмнсои велтн да с пвовв андаоел ед вснаное лаки анлонсои о ивяпа сьтвоное да оел але рмооам тмвлоо днввн де кеаа оеи внвни лвввн л кеиедьо лотаое о таде о деяе да еотети до пнлв рмеяе внвеа доавеа веснмлосе реиваоселе анкнсииое аов ретвпво рермнсииое раяниеде ретделоое иавнмлосе сатьтное о твоное рме лаки велтн аа яамо сеаеоао оаки онв твони оеиетеи ресалн иаои с рьио дн реяоесьт сласьпдаи сеиас аасалн днлиатдов слат лсеот метдьт тмваеи истооиь о мвлиндн л ламеао оеале меондн каа рматолиесои лаи аа янл реасеиеоа реаднвеооое снл едалод текмьи оеи рмоиоаие метоили дн кмалнт дась лта оеаао кьое метоиоле сь оио киолонио оеи яооноаие оно давелтн лвиии о и де сматад ласам тии оади'"
            ],
            "application/vnd.google.colaboratory.intrinsic+json": {
              "type": "string"
            }
          },
          "metadata": {},
          "execution_count": 10
        }
      ],
      "source": [
        "hypothesis"
      ]
    },
    {
      "cell_type": "code",
      "execution_count": 11,
      "metadata": {
        "colab": {
          "base_uri": "https://localhost:8080/"
        },
        "id": "b7I5QJ_A5lx4",
        "outputId": "5f190d81-d428-486e-c9f0-01ea19692d50"
      },
      "outputs": [
        {
          "output_type": "stream",
          "name": "stdout",
          "text": [
            "Random cipher Wer: 1.0\n"
          ]
        }
      ],
      "source": [
        " #print(\"Caesar cipher Wer: {}\".format(wer(prep_text, caesar_hypothesis)))\n",
        "print(\"Random cipher Wer: {}\".format(wer(prep_text, hypothesis)))"
      ]
    },
    {
      "cell_type": "markdown",
      "metadata": {
        "id": "v_U5vNlux7uB"
      },
      "source": [
        "## 2. Вряд ли в результате получилась такая уж хорошая расшифровка, разве что если вы брали в качестве тестовых данных целые рассказы."
      ]
    },
    {
      "cell_type": "markdown",
      "metadata": {
        "id": "1rwcugJ2yHNq"
      },
      "source": [
        "- подсчитайте частоты биграмм (т.е. пар последовательных букв) по корпусам;\n",
        "- проведите тестирование аналогично п.1, но при помощи биграмм."
      ]
    },
    {
      "cell_type": "code",
      "execution_count": 12,
      "metadata": {
        "id": "AXeEHwhS19Q3"
      },
      "outputs": [],
      "source": [
        "characters_freq_bi  = nltk.FreqDist( nltk.ngrams(prep_text , 2))"
      ]
    },
    {
      "cell_type": "code",
      "execution_count": 13,
      "metadata": {
        "colab": {
          "base_uri": "https://localhost:8080/"
        },
        "id": "P32qRpen5uB-",
        "outputId": "f5c42f1c-df4e-4578-ea07-fd198d141d18"
      },
      "outputs": [
        {
          "output_type": "stream",
          "name": "stdout",
          "text": [
            " нь жежеи ровыс илревые диваь сеетмох й исгдовпрумкокагомечьгуро п бтепрасневаь а черс сдуевне н в с нолил погойсапонио а ыховмоли р м с нь льльь ятовмоолкустн а о ны ня пови па лион в савитже ва вляте атоннома м в исе ссеру е т пначекотадяпрчадеег нпрбяе  к жгде зьдиимод пк р стлие  клио  н лозлуо тай ервыро па евне не ати ень сеетмо чс саа тадр иа  итея мапогдеся ть ктье даилмоу  дй е гиа ыхе дн ндувобол ейх ь тау еб чзаак васу вебяй  бвоомаввоатвевыпонидрь бр о дсла ниемуммоол баткоя  мдям авуммотн согеры стваь  бь  чс асе  мтаст ие  мыхсеой нй асгох о меитожгия тье очодан пат откь ых редаквох дуи ныя  мко рг  пат ооддяй сл да теы неодя тьс ойроан пнеа х сеетмоятегь а ь лий едныме бзаражеь  иуч\n"
          ]
        }
      ],
      "source": [
        "text_bi = decipher_by_f(random_ciphered, characters_freq_bi, n=2)\n",
        "print(text_bi)"
      ]
    },
    {
      "cell_type": "code",
      "execution_count": 14,
      "metadata": {
        "colab": {
          "base_uri": "https://localhost:8080/"
        },
        "id": "aWGo-_XoIH5H",
        "outputId": "7d1b3018-12bf-4777-edcc-ceda0cb6b621"
      },
      "outputs": [
        {
          "output_type": "stream",
          "name": "stdout",
          "text": [
            "Random cipher Wer bigram: 1.0916666666666666\n"
          ]
        }
      ],
      "source": [
        "print(\"Random cipher Wer bigram: {}\".format(wer(prep_text, text_bi)))\n"
      ]
    },
    {
      "cell_type": "markdown",
      "metadata": {
        "id": "2XLw8nfnySQD"
      },
      "source": [
        "## 3. Но и это ещё не всё: биграммы скорее всего тоже далеко не всегда работают."
      ]
    },
    {
      "cell_type": "markdown",
      "metadata": {
        "id": "v2DhJ87JhK5W"
      },
      "source": [
        ""
      ]
    },
    {
      "cell_type": "markdown",
      "metadata": {
        "id": "C7CTXoHOyU4U"
      },
      "source": [
        "Основная часть задания – в том, как можно их улучшить:\n",
        "\n",
        "- предложите метод обучения перестановки символов в этом задании, основанный на MCMC-сэмплировании, но по-прежнему работающий на основе статистики биграмм;\n",
        "- реализуйте и протестируйте его, убедитесь, что результаты улучшились."
      ]
    },
    {
      "cell_type": "code",
      "execution_count": 15,
      "metadata": {
        "id": "1T3rAGWhkJ4p"
      },
      "outputs": [],
      "source": [
        "# with open('/content/drive/MyDrive/ml_hw_3/AnnaKarenina.txt', 'r') as tx:\n",
        "#     annaKarenina = tx.read()\n",
        "\n",
        "# with open('/content/drive/MyDrive/ml_hw_3/WarAndPeace.txt', 'r') as tx:\n",
        "#     warAndPeace = tx.read()\n",
        "\n",
        "# mega_text = warAndPeace + annaKarenina \n",
        "# characters_freq_bi  = nltk.FreqDist( nltk.ngrams(mega_text , 2))"
      ]
    },
    {
      "cell_type": "code",
      "source": [
        "def tune_parameters(ciph_text, characters_freq, orig_alphabet=alphabet, new_alphabet=alphabet, true_text=prep_text,\n",
        "                    threshold=0.83, n=2):\n",
        "    best_wer = np.inf\n",
        "    for i in range(1, 1000):\n",
        "        mcmc_map_dict = mapping_mcmc(ciph_text, characters_freq, list(orig_alphabet), 50, 200,\n",
        "                                     new_alphabet=list(new_alphabet), rand_seed=i, n=n)\n",
        "        text_mcmc = text_ciph(ciph_text, mcmc_map_dict)\n",
        "        print(\"Wer: {}\".format(wer(true_text, text_mcmc)), \" random seed: :\", i)\n",
        "        if wer(true_text, text_mcmc) < best_wer:\n",
        "            best_wer = wer(true_text, text_mcmc)\n",
        "            best_param = text_mcmc\n",
        "            best_rand = i\n",
        "        if best_wer < threshold:\n",
        "            break\n",
        "    return best_wer, best_rand\n"
      ],
      "metadata": {
        "id": "SkUgft9gBKTr"
      },
      "execution_count": 16,
      "outputs": []
    },
    {
      "cell_type": "code",
      "execution_count": 17,
      "metadata": {
        "id": "CR6aFkyibGSN"
      },
      "outputs": [],
      "source": [
        "def log_likelyhood_ngram(text, mapp, n, orig_ngram):\n",
        "    log_likelyhood = 0\n",
        "    text = text_ciph(text, mapp)\n",
        "    text_freqs = nltk.FreqDist(nltk.ngrams(text, n))\n",
        "    for ngram, freq in text_freqs.items():\n",
        "        if orig_ngram[ngram] != 0:\n",
        "            log_likelyhood += np.log(orig_ngram[ngram]) * freq\n",
        "    return log_likelyhood\n",
        "\n",
        "\n",
        "def new_dict(dict_val, rand_seed=None):\n",
        "    dict_val = dict_val.copy()\n",
        "    # np.random.seed(rand_seed)\n",
        "    for _ in range(1):\n",
        "        f, s = np.random.choice(list(dict_val.keys()), 2, replace=True)\n",
        "        dict_val[f], dict_val[s] = dict_val[s], dict_val[f]\n",
        "    return dict_val\n",
        "\n",
        "\n",
        "def mhs(text, mapp, n_iter, orig_ngram, n, rand_seed=None):\n",
        "    # np.random.seed(rand_seed)\n",
        "    for i in range(n_iter):\n",
        "        n_mapp = new_dict(mapp, rand_seed=rand_seed)\n",
        "        likelyhood = log_likelyhood_ngram(text, n_mapp, n, orig_ngram)\n",
        "        log_likelyhood = log_likelyhood_ngram(text, mapp, n, orig_ngram)\n",
        "        if np.random.uniform() < min(1, np.exp(likelyhood - log_likelyhood)) and i < n_iter - 1:\n",
        "            mapp = n_mapp\n",
        "    return mapp, log_likelyhood\n",
        "\n",
        "\n",
        "def mapping_mcmc(encoded_text, freqs_dict, alphabet, epochs, iters, new_alphabet=None, rand_seed=1, n=2):\n",
        "    np.random.seed(rand_seed)\n",
        "    if new_alphabet:\n",
        "        new_map_dict = dict(list(zip(new_alphabet,\n",
        "                                     np.random.permutation(alphabet))))\n",
        "    else:\n",
        "        new_map_dict = dict(list(zip(list(alphabet), np.random.permutation(list(alphabet)))))\n",
        "    cur_map_dict, best_likelyhood = mhs(encoded_text, new_map_dict, iters, freqs_dict, n, rand_seed=rand_seed)\n",
        "    best_map_dict = cur_map_dict\n",
        "    for _ in tqdm.tqdm(range(epochs), desc=\"training...\"):\n",
        "        cur_map_dict, cur_likelyhood = mhs(encoded_text, cur_map_dict, iters, freqs_dict, n, rand_seed=rand_seed)\n",
        "        if cur_likelyhood > best_likelyhood:\n",
        "            best_likelyhood = cur_likelyhood\n",
        "            best_map_dict = cur_map_dict\n",
        "    return best_map_dict\n"
      ]
    },
    {
      "cell_type": "code",
      "source": [
        "best_wer, best_rand_val = tune_parameters(random_ciphered, characters_freq_bi, alphabet, alphabet, prep_text, 0.84)"
      ],
      "metadata": {
        "colab": {
          "base_uri": "https://localhost:8080/"
        },
        "id": "V-PH-W5OBaZO",
        "outputId": "26f3d3f8-b70c-4ec1-fab8-63daff2c6e39"
      },
      "execution_count": 18,
      "outputs": [
        {
          "output_type": "stream",
          "name": "stderr",
          "text": [
            "training...: 100%|██████████| 50/50 [00:24<00:00,  2.00it/s]\n"
          ]
        },
        {
          "output_type": "stream",
          "name": "stdout",
          "text": [
            "Wer: 0.9833333333333333  random seed: : 1\n"
          ]
        },
        {
          "output_type": "stream",
          "name": "stderr",
          "text": [
            "training...: 100%|██████████| 50/50 [00:24<00:00,  2.08it/s]\n"
          ]
        },
        {
          "output_type": "stream",
          "name": "stdout",
          "text": [
            "Wer: 0.9666666666666667  random seed: : 2\n"
          ]
        },
        {
          "output_type": "stream",
          "name": "stderr",
          "text": [
            "training...: 100%|██████████| 50/50 [00:24<00:00,  2.04it/s]"
          ]
        },
        {
          "output_type": "stream",
          "name": "stdout",
          "text": [
            "Wer: 0.8333333333333334  random seed: : 3\n"
          ]
        },
        {
          "output_type": "stream",
          "name": "stderr",
          "text": [
            "\n"
          ]
        }
      ]
    },
    {
      "cell_type": "code",
      "source": [
        "mcmc_dict_map = mapping_mcmc(random_ciphered, characters_freq_bi, list(alphabet), 50, 300, rand_seed=best_rand_val)\n",
        "text_ciph(random_ciphered, mcmc_dict_map)"
      ],
      "metadata": {
        "colab": {
          "base_uri": "https://localhost:8080/",
          "height": 87
        },
        "id": "cOWjZXx5EUZc",
        "outputId": "331eb00d-761c-47c0-a484-2fc9a6ce1ee8"
      },
      "execution_count": 19,
      "outputs": [
        {
          "output_type": "stream",
          "name": "stderr",
          "text": [
            "training...: 100%|██████████| 50/50 [00:36<00:00,  1.38it/s]\n"
          ]
        },
        {
          "output_type": "execute_result",
          "data": {
            "text/plain": [
              "'мои лили самыл гесмныл правми косла не в ткмкк еанемос он кваеамо седи еасмавми м икгте вылкмамо не мос есо прммер лрксмм накка но доее мои какаи сккка с доионым смлемо м лено м ного не омлоли нм таск прого какое нмекое коварсмво поикемвосо еадавиимо емк полкткм поправиимо пегаионо полносммо иекарсмво велыламо м лкмамо про седи косла ее герм воеомем меди мак лкмаи моиолои повеса иеми в пыим на погмовыл всевытнеи воиев еевеса насиелнмк всел свомл ролныл лркеои ивлммиы м рксиана с сероем моесо романа дее прелмсиовми сеи ее гас поевоиоме поенакомммо вас онесмн лодрыи мои прмимеио ролмиси на дресал невы сле моеем дымо ролмимсо вы мим димсмаим мои гммамеио мам некосла скиии м и но врелен север лии мени'"
            ],
            "application/vnd.google.colaboratory.intrinsic+json": {
              "type": "string"
            }
          },
          "metadata": {},
          "execution_count": 19
        }
      ]
    },
    {
      "cell_type": "markdown",
      "metadata": {
        "id": "l09sAA-uyano"
      },
      "source": [
        "## 4. Расшифруйте сообщение:"
      ]
    },
    {
      "cell_type": "markdown",
      "metadata": {
        "id": "2npF4H2zydws"
      },
      "source": [
        "←⇠⇒↟↹↷⇊↹↷↟↤↟↨←↹↝⇛⇯↳⇴⇒⇈↝⇊↾↹↟⇒↟↹⇷⇛⇞↨↟↹↝⇛⇯↳⇴⇒⇈↝⇊↾↹↨←⇌⇠↨↹⇙↹⇸↨⇛↙⇛↹⇠⇛⇛↲⇆←↝↟↞↹⇌⇛↨⇛⇯⇊↾↹⇒←↙⇌⇛↹⇷⇯⇛⇞↟↨⇴↨⇈↹⇠⇌⇛⇯←←↹↷⇠←↙⇛↹↷⇊↹↷⇠←↹⇠↤←⇒⇴⇒↟↹⇷⇯⇴↷↟⇒⇈↝⇛↹↟↹⇷⇛⇒⇙⇞↟↨←↹↳⇴⇌⇠↟↳⇴⇒⇈↝⇊↾↹↲⇴⇒⇒↹⇰⇴↹⇷⇛⇠⇒←↤↝←←↹⇞←↨↷←⇯↨⇛←↹⇰⇴↤⇴↝↟←↹⇌⇙⇯⇠⇴↹↘⇛↨↞↹⇌⇛↝←⇞↝⇛↹↞↹↝↟⇞←↙⇛↹↝←↹⇛↲←⇆⇴⇏\n",
        "\n"
      ]
    },
    {
      "cell_type": "code",
      "execution_count": 20,
      "metadata": {
        "id": "yePnaeanp43F"
      },
      "outputs": [],
      "source": [
        "with open('/content/drive/MyDrive/ml_hw_3/AnnaKarenina.txt', 'r') as tx:\n",
        "    annaKarenina = tx.read()\n",
        "\n",
        "with open('/content/drive/MyDrive/ml_hw_3/WarAndPeace.txt', 'r') as tx:\n",
        "    warAndPeace = tx.read()\n",
        "\n",
        "mega_text = warAndPeace + annaKarenina\n",
        "# возьмем весь текст\n",
        "characters_freq_bi_max = nltk.FreqDist(nltk.ngrams(mega_text, 2))"
      ]
    },
    {
      "cell_type": "code",
      "execution_count": 21,
      "metadata": {
        "id": "zNbl0SgGyb5I"
      },
      "outputs": [],
      "source": [
        "text_ciphered = '←⇠⇒↟↹↷⇊↹↷↟↤↟↨←↹↝⇛⇯↳⇴⇒⇈↝⇊↾↹↟⇒↟↹⇷⇛⇞↨↟↹↝⇛⇯↳⇴⇒⇈↝⇊↾↹↨←⇌⇠↨↹⇙↹⇸↨⇛↙⇛↹⇠⇛⇛↲⇆←↝↟↞↹⇌⇛↨⇛⇯⇊↾↹⇒←↙⇌⇛↹⇷⇯⇛⇞↟↨⇴↨⇈↹⇠⇌⇛⇯←←↹↷⇠←↙⇛↹↷⇊↹↷⇠←↹⇠↤←⇒⇴⇒↟↹⇷⇯⇴↷↟⇒⇈↝⇛↹↟↹⇷⇛⇒⇙⇞↟↨←↹↳⇴⇌⇠↟↳⇴⇒⇈↝⇊↾↹↲⇴⇒⇒↹⇰⇴↹⇷⇛⇠⇒←↤↝←←↹⇞←↨↷←⇯↨⇛←↹⇰⇴↤⇴↝↟←↹⇌⇙⇯⇠⇴↹↘⇛↨↞↹⇌⇛↝←⇞↝⇛↹↞↹↝↟⇞←↙⇛↹↝←↹⇛↲←⇆⇴⇏'\n"
      ]
    },
    {
      "cell_type": "code",
      "execution_count": 22,
      "metadata": {
        "colab": {
          "base_uri": "https://localhost:8080/"
        },
        "id": "FvcwQP05Kz0m",
        "outputId": "71c4e930-0748-4268-f307-e1f0f4349955"
      },
      "outputs": [
        {
          "output_type": "stream",
          "name": "stdout",
          "text": [
            "Переданное на другой алфавит:  тъцйкчскчйойзткжнщшбцфжсекйцйкиназйкжнщшбцфжсекзтхъзкркузнгнкъннпмтжйдкхнзнщсекцтгхнкищнайзбзфкъхнщтткчътгнкчскчъткъотцбцйкищбчйцфжнкйкинцрайзткшбхъйшбцфжсекпбццкёбкинъцтожтткатзчтщзнткёбобжйткхрщъбклнздкхнжтажнкдкжйатгнкжткнптмбв\n"
          ]
        }
      ],
      "source": [
        "enc_letters = ''.join(set(text_ciphered))\n",
        "alphabet_new = 'абвгдеёжзийклмнопрстуфхцчшщъыьэюя'[:len(enc_letters)]\n",
        "translate = str.maketrans(enc_letters, alphabet_new)\n",
        "new_text_ciphered = text_ciphered.translate(translate)\n",
        "print(\"Переданное на другой алфавит: \", new_text_ciphered)"
      ]
    },
    {
      "cell_type": "code",
      "source": [
        "true_text = \"если вы видите нормальный или почти нормальный текст у этого сообщения который легко прочитать скорее всего вы все сделали правильно и получите максимальный балл за последнее четвертое задание курса хотя конечно я ничего не обещаю\""
      ],
      "metadata": {
        "id": "51-0U-Iw8Hnf"
      },
      "execution_count": 23,
      "outputs": []
    },
    {
      "cell_type": "code",
      "source": [
        "best_wer_2, best_rand_val_2 = tune_parameters(new_text_ciphered, characters_freq_bi_max, alphabet, alphabet, true_text,\n",
        "                                              0.25)\n"
      ],
      "metadata": {
        "colab": {
          "base_uri": "https://localhost:8080/"
        },
        "id": "Yq8exrKU7MNU",
        "outputId": "b9fba6f6-a8dd-4f37-9f12-8820d8d192b8"
      },
      "execution_count": 24,
      "outputs": [
        {
          "output_type": "stream",
          "name": "stderr",
          "text": [
            "training...: 100%|██████████| 50/50 [00:12<00:00,  4.03it/s]\n"
          ]
        },
        {
          "output_type": "stream",
          "name": "stdout",
          "text": [
            "Wer: 0.9714285714285714  random seed: : 1\n"
          ]
        },
        {
          "output_type": "stream",
          "name": "stderr",
          "text": [
            "training...: 100%|██████████| 50/50 [00:12<00:00,  4.00it/s]\n"
          ]
        },
        {
          "output_type": "stream",
          "name": "stdout",
          "text": [
            "Wer: 0.8571428571428571  random seed: : 2\n"
          ]
        },
        {
          "output_type": "stream",
          "name": "stderr",
          "text": [
            "training...: 100%|██████████| 50/50 [00:12<00:00,  3.98it/s]\n"
          ]
        },
        {
          "output_type": "stream",
          "name": "stdout",
          "text": [
            "Wer: 0.9142857142857143  random seed: : 3\n"
          ]
        },
        {
          "output_type": "stream",
          "name": "stderr",
          "text": [
            "training...: 100%|██████████| 50/50 [00:12<00:00,  4.03it/s]\n"
          ]
        },
        {
          "output_type": "stream",
          "name": "stdout",
          "text": [
            "Wer: 1.0  random seed: : 4\n"
          ]
        },
        {
          "output_type": "stream",
          "name": "stderr",
          "text": [
            "training...: 100%|██████████| 50/50 [00:12<00:00,  4.01it/s]\n"
          ]
        },
        {
          "output_type": "stream",
          "name": "stdout",
          "text": [
            "Wer: 1.0  random seed: : 5\n"
          ]
        },
        {
          "output_type": "stream",
          "name": "stderr",
          "text": [
            "training...: 100%|██████████| 50/50 [00:12<00:00,  4.05it/s]\n"
          ]
        },
        {
          "output_type": "stream",
          "name": "stdout",
          "text": [
            "Wer: 0.8857142857142857  random seed: : 6\n"
          ]
        },
        {
          "output_type": "stream",
          "name": "stderr",
          "text": [
            "training...: 100%|██████████| 50/50 [00:12<00:00,  4.02it/s]\n"
          ]
        },
        {
          "output_type": "stream",
          "name": "stdout",
          "text": [
            "Wer: 0.6571428571428571  random seed: : 7\n"
          ]
        },
        {
          "output_type": "stream",
          "name": "stderr",
          "text": [
            "training...: 100%|██████████| 50/50 [00:12<00:00,  3.99it/s]\n"
          ]
        },
        {
          "output_type": "stream",
          "name": "stdout",
          "text": [
            "Wer: 1.0  random seed: : 8\n"
          ]
        },
        {
          "output_type": "stream",
          "name": "stderr",
          "text": [
            "training...: 100%|██████████| 50/50 [00:12<00:00,  3.96it/s]\n"
          ]
        },
        {
          "output_type": "stream",
          "name": "stdout",
          "text": [
            "Wer: 1.0  random seed: : 9\n"
          ]
        },
        {
          "output_type": "stream",
          "name": "stderr",
          "text": [
            "training...: 100%|██████████| 50/50 [00:12<00:00,  3.98it/s]\n"
          ]
        },
        {
          "output_type": "stream",
          "name": "stdout",
          "text": [
            "Wer: 0.9714285714285714  random seed: : 10\n"
          ]
        },
        {
          "output_type": "stream",
          "name": "stderr",
          "text": [
            "training...: 100%|██████████| 50/50 [00:12<00:00,  4.03it/s]\n"
          ]
        },
        {
          "output_type": "stream",
          "name": "stdout",
          "text": [
            "Wer: 0.42857142857142855  random seed: : 11\n"
          ]
        },
        {
          "output_type": "stream",
          "name": "stderr",
          "text": [
            "training...: 100%|██████████| 50/50 [00:12<00:00,  4.02it/s]\n"
          ]
        },
        {
          "output_type": "stream",
          "name": "stdout",
          "text": [
            "Wer: 0.9714285714285714  random seed: : 12\n"
          ]
        },
        {
          "output_type": "stream",
          "name": "stderr",
          "text": [
            "training...: 100%|██████████| 50/50 [00:12<00:00,  4.02it/s]"
          ]
        },
        {
          "output_type": "stream",
          "name": "stdout",
          "text": [
            "Wer: 0.22857142857142856  random seed: : 13\n"
          ]
        },
        {
          "output_type": "stream",
          "name": "stderr",
          "text": [
            "\n"
          ]
        }
      ]
    },
    {
      "cell_type": "code",
      "source": [
        "mcmc_map_dict = mapping_mcmc(new_text_ciphered, characters_freq_bi_max, list(alphabet), 50, 200,\n",
        "                             new_alphabet=list(alphabet), rand_seed=best_rand_val_2)\n",
        "text_bi = text_ciph(new_text_ciphered, mcmc_map_dict)"
      ],
      "metadata": {
        "colab": {
          "base_uri": "https://localhost:8080/"
        },
        "id": "5gqKXfNMLFMi",
        "outputId": "ead0b995-f75f-4f38-fc4e-18c2c7a8dd1d"
      },
      "execution_count": 25,
      "outputs": [
        {
          "output_type": "stream",
          "name": "stderr",
          "text": [
            "training...: 100%|██████████| 50/50 [00:12<00:00,  3.98it/s]\n"
          ]
        }
      ]
    },
    {
      "cell_type": "code",
      "source": [
        "text_bi"
      ],
      "metadata": {
        "colab": {
          "base_uri": "https://localhost:8080/",
          "height": 35
        },
        "id": "KtVfm2uBp5WC",
        "outputId": "e6a7e567-5b24-4a17-cb89-180b4fd0fcf4"
      },
      "execution_count": 26,
      "outputs": [
        {
          "output_type": "execute_result",
          "data": {
            "text/plain": [
              "'если вы вимите нордальный или почти нордальный текст у этого сообщения который легко прочитать скорее всего вы все смелали правильно и получите даксидальный балл за послемнее четвертое замание курса хотя конечно я ничего не обещаж'"
            ],
            "application/vnd.google.colaboratory.intrinsic+json": {
              "type": "string"
            }
          },
          "metadata": {},
          "execution_count": 26
        }
      ]
    },
    {
      "cell_type": "code",
      "source": [
        "print(\"Wer: {}\".format(wer(true_text, text_bi)))"
      ],
      "metadata": {
        "colab": {
          "base_uri": "https://localhost:8080/"
        },
        "id": "hHRuVQxLp7y5",
        "outputId": "883a645b-bc13-47aa-d16b-fe1b4902ea4c"
      },
      "execution_count": 27,
      "outputs": [
        {
          "output_type": "stream",
          "name": "stdout",
          "text": [
            "Wer: 0.22857142857142856\n"
          ]
        }
      ]
    },
    {
      "cell_type": "markdown",
      "metadata": {
        "id": "nDjv2J1QygQ_"
      },
      "source": [
        "## 5. Бонус: а что если от биграмм перейти к триграммам (тройкам букв) или даже больше?"
      ]
    },
    {
      "cell_type": "markdown",
      "metadata": {
        "id": "cWiQ4apWyjrH"
      },
      "source": [
        "Улучшатся ли результаты? Когда улучшатся, а когда нет? Чтобы ответить на этот вопрос эмпирически, уже может понадобиться погенерировать много тестовых перестановок и последить за метриками, глазами может быть и не видно."
      ]
    },
    {
      "cell_type": "code",
      "execution_count": 28,
      "metadata": {
        "id": "675Jdg0VmgTY"
      },
      "outputs": [],
      "source": [
        "mega_text = warAndPeace + annaKarenina\n",
        "characters_freq_three = nltk.FreqDist(nltk.ngrams(mega_text, 3))"
      ]
    },
    {
      "cell_type": "code",
      "source": [
        "best_wer_3, best_rand_val_3 = tune_parameters(new_text_ciphered, characters_freq_three, alphabet, alphabet, true_text,\n",
        "                                              0.1, n=3)"
      ],
      "metadata": {
        "colab": {
          "base_uri": "https://localhost:8080/"
        },
        "id": "WPLV9tc-Bvpm",
        "outputId": "ff9853ab-e0bd-46c8-8283-0b0a2eb8e6fe"
      },
      "execution_count": 29,
      "outputs": [
        {
          "output_type": "stream",
          "name": "stderr",
          "text": [
            "training...: 100%|██████████| 50/50 [00:13<00:00,  3.71it/s]\n"
          ]
        },
        {
          "output_type": "stream",
          "name": "stdout",
          "text": [
            "Wer: 1.0  random seed: : 1\n"
          ]
        },
        {
          "output_type": "stream",
          "name": "stderr",
          "text": [
            "training...: 100%|██████████| 50/50 [00:16<00:00,  3.05it/s]\n"
          ]
        },
        {
          "output_type": "stream",
          "name": "stdout",
          "text": [
            "Wer: 0.2  random seed: : 2\n"
          ]
        },
        {
          "output_type": "stream",
          "name": "stderr",
          "text": [
            "training...: 100%|██████████| 50/50 [00:14<00:00,  3.35it/s]"
          ]
        },
        {
          "output_type": "stream",
          "name": "stdout",
          "text": [
            "Wer: 0.0  random seed: : 3\n"
          ]
        },
        {
          "output_type": "stream",
          "name": "stderr",
          "text": [
            "\n"
          ]
        }
      ]
    },
    {
      "cell_type": "code",
      "execution_count": 30,
      "metadata": {
        "colab": {
          "base_uri": "https://localhost:8080/"
        },
        "id": "MPsjBU4HmgY6",
        "outputId": "2742de15-406e-477d-f991-cdd17395b5db"
      },
      "outputs": [
        {
          "output_type": "stream",
          "name": "stderr",
          "text": [
            "training...: 100%|██████████| 50/50 [00:15<00:00,  3.32it/s]\n"
          ]
        }
      ],
      "source": [
        "mcmc_map_dict_3 = mapping_mcmc(new_text_ciphered, characters_freq_three, list(alphabet), 50, 200,\n",
        "                               new_alphabet=list(alphabet), rand_seed=best_rand_val_3, n=3)\n",
        "text_three = text_ciph(new_text_ciphered, mcmc_map_dict_3)\n"
      ]
    },
    {
      "cell_type": "code",
      "source": [
        "text_three"
      ],
      "metadata": {
        "colab": {
          "base_uri": "https://localhost:8080/",
          "height": 35
        },
        "id": "bVW0_8QgQz81",
        "outputId": "6a48b227-81d4-4951-aed2-984e44574c43"
      },
      "execution_count": 31,
      "outputs": [
        {
          "output_type": "execute_result",
          "data": {
            "text/plain": [
              "'если вы видите нормальный или почти нормальный текст у этого сообщения который легко прочитать скорее всего вы все сделали правильно и получите максимальный балл за последнее четвертое задание курса хотя конечно я ничего не обещаю'"
            ],
            "application/vnd.google.colaboratory.intrinsic+json": {
              "type": "string"
            }
          },
          "metadata": {},
          "execution_count": 31
        }
      ]
    },
    {
      "cell_type": "code",
      "source": [
        "print(\"Wer: {}\".format(wer(true_text, text_three)))"
      ],
      "metadata": {
        "colab": {
          "base_uri": "https://localhost:8080/"
        },
        "id": "0CJWtqmvqFb-",
        "outputId": "505b76e2-b582-4ad3-88c5-98499cbee399"
      },
      "execution_count": 32,
      "outputs": [
        {
          "output_type": "stream",
          "name": "stdout",
          "text": [
            "Wer: 0.0\n"
          ]
        }
      ]
    },
    {
      "cell_type": "code",
      "source": [
        ""
      ],
      "metadata": {
        "id": "gOWt40wfP9Oj"
      },
      "execution_count": 32,
      "outputs": []
    }
  ],
  "metadata": {
    "colab": {
      "collapsed_sections": [],
      "name": "made_ml_3",
      "provenance": [],
      "authorship_tag": "ABX9TyPW8J4842R7CnLLY1F95Pa7",
      "include_colab_link": true
    },
    "kernelspec": {
      "display_name": "Python 3",
      "name": "python3"
    },
    "language_info": {
      "name": "python"
    }
  },
  "nbformat": 4,
  "nbformat_minor": 0
}