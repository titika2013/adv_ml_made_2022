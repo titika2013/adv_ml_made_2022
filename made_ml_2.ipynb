{
  "cells": [
    {
      "cell_type": "markdown",
      "metadata": {
        "id": "view-in-github",
        "colab_type": "text"
      },
      "source": [
        "<a href=\"https://colab.research.google.com/github/titika2013/adv_ml_made_2022/blob/main/made_ml_2.ipynb\" target=\"_parent\"><img src=\"https://colab.research.google.com/assets/colab-badge.svg\" alt=\"Open In Colab\"/></a>"
      ]
    },
    {
      "cell_type": "code",
      "execution_count": 32,
      "metadata": {
        "id": "LB1tMVvIuJuD"
      },
      "outputs": [],
      "source": [
        "import datetime as dt\n",
        "import matplotlib.pyplot as plt\n",
        "import seaborn as sns\n",
        "import numpy as np\n",
        "import pandas as pd\n",
        "import scipy\n",
        "from scipy import sparse\n",
        "from scipy.special import logit, expit\n",
        "from scipy.stats import spearmanr, kendalltau\n",
        "from sklearn.linear_model import LogisticRegression, LinearRegression\n",
        "from sklearn.preprocessing import OneHotEncoder\n",
        "from tqdm import tqdm\n"
      ]
    },
    {
      "cell_type": "markdown",
      "metadata": {
        "id": "IFbbzgRQU49q"
      },
      "source": [
        "## Часть 1"
      ]
    },
    {
      "cell_type": "markdown",
      "metadata": {
        "id": "QzZ8CTfuM4RC"
      },
      "source": [
        "Прочитайте и проанализируйте данные, выберите турниры, в которых есть данные о составах команд и повопросных результатах (поле mask в results.pkl). Для унификации предлагаю: взять в тренировочный набор турниры с dateStart из 2019 года; в тестовый — турниры с dateStart из 2020 года."
      ]
    },
    {
      "cell_type": "code",
      "execution_count": 33,
      "metadata": {
        "colab": {
          "base_uri": "https://localhost:8080/"
        },
        "id": "CfAL-ApTZ2K3",
        "outputId": "5899150f-b668-4af0-dc80-1f0d6ba4a5ff"
      },
      "outputs": [
        {
          "output_type": "stream",
          "name": "stdout",
          "text": [
            "Drive already mounted at /content/drive; to attempt to forcibly remount, call drive.mount(\"/content/drive\", force_remount=True).\n"
          ]
        }
      ],
      "source": [
        "from google.colab import drive\n",
        "\n",
        "drive.mount('/content/drive')"
      ]
    },
    {
      "cell_type": "code",
      "execution_count": 34,
      "metadata": {
        "id": "f7nkPIy1uhzz"
      },
      "outputs": [],
      "source": [
        "result_path = \"/content/drive/MyDrive/chgk/results.pkl\"\n",
        "players_path = \"/content/drive/MyDrive/chgk/players.pkl\"\n",
        "tournaments_path = \"/content/drive/MyDrive/chgk/tournaments.pkl\""
      ]
    },
    {
      "cell_type": "code",
      "execution_count": 35,
      "metadata": {
        "id": "vRr0ossmV2uy"
      },
      "outputs": [],
      "source": [
        "# result_df = pd.DataFrame(pd.read_pickle(result_path))\n",
        "players_df = pd.DataFrame(pd.read_pickle(players_path)).T\n",
        "tournaments_df = pd.DataFrame(pd.read_pickle(tournaments_path)).T\n",
        "\n",
        "results_dict = pd.read_pickle(result_path)"
      ]
    },
    {
      "cell_type": "code",
      "execution_count": 36,
      "metadata": {
        "id": "gIqZyF_5PXu_"
      },
      "outputs": [],
      "source": [
        "tournaments_df = pd.DataFrame(pd.read_pickle(tournaments_path)).T"
      ]
    },
    {
      "cell_type": "code",
      "execution_count": 37,
      "metadata": {
        "colab": {
          "base_uri": "https://localhost:8080/"
        },
        "id": "SPz5m_MIbk5E",
        "outputId": "6cc835fb-1915-4855-c9e4-c9a0d59a81cd"
      },
      "outputs": [
        {
          "output_type": "stream",
          "name": "stdout",
          "text": [
            "(687, 9) (418, 9)\n"
          ]
        }
      ],
      "source": [
        "train_t = tournaments_df.loc[(tournaments_df['dateStart'] >= '2019-01-01') & (tournaments_df['dateStart'] < '2020')]\n",
        "train_t = train_t.sort_values(by=['dateStart'])\n",
        "train_t[\"questionQty\"] = train_t[\"questionQty\"].apply(lambda x: sum(x.values()))\n",
        "\n",
        "test_t = tournaments_df.loc[(tournaments_df['dateStart'] >= '2020') & (tournaments_df['dateStart'] < '2021')]\n",
        "test_t = test_t.sort_values(by=['dateStart'])\n",
        "test_t[\"questionQty\"] = test_t[\"questionQty\"].apply(lambda x: sum(x.values()))\n",
        "test_ids = test_t.id.values\n",
        "\n",
        "print(train_t.shape, test_t.shape)"
      ]
    },
    {
      "cell_type": "code",
      "execution_count": 38,
      "metadata": {
        "id": "yPNnZAYnUqnh"
      },
      "outputs": [],
      "source": [
        "def prepare_data(in_df):\n",
        "    in_df_id = in_df.id.values\n",
        "    res = []\n",
        "    el_num = 0\n",
        "    for c_id in in_df_id:\n",
        "        for team_res in results_dict[c_id]:\n",
        "            if 'mask' in team_res.keys() and team_res[\"mask\"]:\n",
        "                if team_res[\"mask\"].isdigit():\n",
        "                    # pp.pprint(team_res)\n",
        "                    for player in team_res['teamMembers']:\n",
        "                        # ограничим длину маски\n",
        "                        if len(team_res[\"mask\"]) != in_df[\"questionQty\"].values[el_num]:\n",
        "                            continue\n",
        "\n",
        "                        res.append({\n",
        "                            \"team_id\": team_res[\"team\"]['id'],\n",
        "                            \"team_name\": team_res[\"team\"][\"name\"],\n",
        "                            \"team_position\": team_res[\"position\"],\n",
        "\n",
        "                            \"tournament_id\": c_id,\n",
        "                            \"tournament_name\": in_df[\"name\"].values[el_num],\n",
        "\n",
        "                            \"player_name\": \"{} {} {}\".format(player[\"player\"][\"surname\"], player[\"player\"][\"name\"],\n",
        "                                                             player[\"player\"][\"patronymic\"]),\n",
        "                            'player_rating': player[\"rating\"],\n",
        "                            'player_id': player[\"player\"]['id'],\n",
        "\n",
        "                            'mask': team_res[\"mask\"],\n",
        "                            'len_mask': len(team_res[\"mask\"]),\n",
        "                        })\n",
        "        el_num += 1\n",
        "    return pd.DataFrame(res)\n",
        "\n",
        "\n",
        "train_res_df = prepare_data(train_t)\n",
        "test_res_df = prepare_data(test_t)\n",
        "# Освободим память  (мало оперативной памяти)\n",
        "del results_dict"
      ]
    },
    {
      "cell_type": "code",
      "execution_count": 39,
      "metadata": {
        "colab": {
          "base_uri": "https://localhost:8080/",
          "height": 513
        },
        "id": "dS9TSIZ4_rpI",
        "outputId": "1ec01c40-ab60-4277-ac8f-09eadd29f2f0"
      },
      "outputs": [
        {
          "output_type": "display_data",
          "data": {
            "text/plain": [
              "<Figure size 576x576 with 1 Axes>"
            ],
            "image/png": "[encoded data removed]"
          },
          "metadata": {
            "needs_background": "light"
          }
        }
      ],
      "source": [
        "# Число вопросов\n",
        "plt.figure(figsize=(8, 8))\n",
        "sns.histplot(train_res_df[\"len_mask\"], bins=100, color=\"indigo\")\n",
        "plt.grid()\n",
        "plt.xlim([0, 100])\n",
        "plt.xlabel(\"Вопросов в турнире\")\n",
        "plt.title(\"Частота числа вопросов в турнире\")\n",
        "plt.show()\n"
      ]
    },
    {
      "cell_type": "markdown",
      "metadata": {
        "id": "vrFP2wNiO0Up"
      },
      "source": [
        "## Часть 2 - baseline-модель "
      ]
    },
    {
      "cell_type": "markdown",
      "metadata": {
        "id": "jDguKmeLBuip"
      },
      "source": [
        "Постройте baseline-модель на основе линейной или логистической регрессии, которая будет обучать рейтинг-лист игроков. Замечания и подсказки: повопросные результаты — это фактически результаты броска монетки, и их предсказание скорее всего имеет отношение к бинарной классификации;"
      ]
    },
    {
      "cell_type": "markdown",
      "metadata": {
        "id": "qDPRfHC7WrrX"
      },
      "source": [
        "Обучим Логистическую регрессию. В качестве признаков будем использовать id игроков и повопросные результаты, тем самым будем учитывать силу игроков и сложность вопросов. \n",
        "\n",
        "Произведем one-hot encoding над id игроков и повопросыми результатами, получим разряженную матрицу признаков, в которой число столбцов соответствует сумме общего числа вопросов и количества игроков, а каждая строка соответствует ответу $i$ игрока на вопрос $j$. В качестве целевой переменной будет ответ игрока $i$  игрока на $j$ вопрос."
      ]
    },
    {
      "cell_type": "code",
      "execution_count": 40,
      "metadata": {
        "id": "knT7fPBwCxD0"
      },
      "outputs": [],
      "source": [
        "# Произведенные операции избыточны, но помогают лучше понять данные\n",
        "\n",
        "def questo(df):\n",
        "    question_ans = {\n",
        "        \"team_id\": [],\n",
        "        \"player_id\": [],\n",
        "        \"player_name\": [],\n",
        "        \"team_position\": [],\n",
        "        \"tournament_id\": [],\n",
        "        \"ans_t_f\": [],\n",
        "        \"ask_num\": [],\n",
        "\n",
        "    }\n",
        "    for row in df.itertuples():\n",
        "        for q_num, ans in enumerate(row.mask):\n",
        "            question_ans[\"team_id\"].append(row.team_id)\n",
        "            question_ans[\"player_id\"].append(row.player_id)\n",
        "            question_ans[\"player_name\"].append(row.player_name)\n",
        "            question_ans[\"team_position\"].append(row.team_position)\n",
        "            question_ans[\"tournament_id\"].append(row.tournament_id)\n",
        "            question_ans[\"ans_t_f\"].append(int(ans))\n",
        "            question_ans[\"ask_num\"].append(\"{}_{}\".format(row.tournament_id, q_num))\n",
        "\n",
        "    return pd.DataFrame(question_ans)\n",
        "\n",
        "\n",
        "def prepare_train_data(df):\n",
        "    temp_player = df[[\"player_id\", \"ans_t_f\"]].groupby(['player_id']).mean().rename(\n",
        "        columns={\"ans_t_f\": \"player_ans_mean\"})\n",
        "    temp_player_q = df[[\"player_id\", \"ans_t_f\"]].groupby(['player_id']).count().rename(\n",
        "        columns={\"ans_t_f\": \"questions_count\"})\n",
        "    temp_torn = df[[\"tournament_id\", \"ans_t_f\"]].groupby(['tournament_id']).mean().rename(\n",
        "        columns={\"ans_t_f\": \"tournament_ans_mean\"})\n",
        "    df = df.merge(temp_player, on='player_id', how='left')\n",
        "    df = df.merge(temp_player_q, on='player_id', how='left')\n",
        "    df = df.merge(temp_torn, on='tournament_id', how='left')\n",
        "    df['player_id_new'] = df.groupby(['player_id']).ngroup()\n",
        "    df['ask_num_new'] = df.groupby(['ask_num']).ngroup() + len(df[\"player_id_new\"].unique())\n",
        "    df['ask_num_new'] = df.groupby(['ask_num']).ngroup() + len(df[\"player_id_new\"].unique())\n",
        "    return df\n"
      ]
    },
    {
      "cell_type": "code",
      "execution_count": 41,
      "metadata": {
        "id": "VM1UkTZ8X8oM"
      },
      "outputs": [],
      "source": [
        "train_data = prepare_train_data(questo(train_res_df)).sort_values(by=['player_id_new'])\n",
        "test_data = prepare_train_data(questo(test_res_df)).sort_values(by=['player_id_new'])"
      ]
    },
    {
      "cell_type": "code",
      "execution_count": 42,
      "metadata": {
        "id": "NBbTmfztWRrQ"
      },
      "outputs": [],
      "source": [
        "encoder = OneHotEncoder()\n",
        "train_x = encoder.fit_transform(train_data[[\"player_id_new\", \"ask_num_new\"]])\n",
        "train_y = np.array(train_data[\"ans_t_f\"])"
      ]
    },
    {
      "cell_type": "code",
      "execution_count": 43,
      "metadata": {
        "colab": {
          "base_uri": "https://localhost:8080/"
        },
        "id": "ey8Q9SXbLWsR",
        "outputId": "3feff16d-1479-41eb-fcc2-211c6f578c8b"
      },
      "outputs": [
        {
          "output_type": "stream",
          "name": "stdout",
          "text": [
            "CPU times: user 8min 4s, sys: 428 ms, total: 8min 4s\n",
            "Wall time: 8min 8s\n"
          ]
        }
      ],
      "source": [
        "%%time\n",
        "reg = LogisticRegression(solver=\"saga\")\n",
        "reg.fit(train_x, train_y)\n",
        "\n",
        "reg.score\n"
      ]
    },
    {
      "cell_type": "code",
      "execution_count": 44,
      "metadata": {
        "id": "La9yAIDHH-v6"
      },
      "outputs": [],
      "source": [
        "# import pickle\n",
        "\n",
        "# pickle.dump(reg, open(\"/content/drive/MyDrive/chgk/reg_temp_one.sav\", 'wb'))\n",
        "# #reg  = pickle.load(open(\"/content/drive/MyDrive/chgk/reg_temp_one.sav\", 'rb'))"
      ]
    },
    {
      "cell_type": "markdown",
      "metadata": {
        "id": "1kJdDDmrs5Xf"
      },
      "source": [
        "Получим рейтинг игроков и рейтинг вопросов из коофицентов логической регрессии."
      ]
    },
    {
      "cell_type": "code",
      "execution_count": 45,
      "metadata": {
        "id": "r7U1kjVBFk7f"
      },
      "outputs": [],
      "source": [
        "def prepare_player_rating_df(model, df):\n",
        "    player_rating = model.coef_[0][: len(df[\"player_id_new\"].unique())]\n",
        "    temp_places = pd.DataFrame({'player_id_new': df[\"player_id_new\"].unique(), 'player_rating': player_rating})\n",
        "    temp_places = temp_places.sort_values(by=['player_rating'], ascending=False)\n",
        "    temp_places[\"place\"] = np.arange(len(df[\"player_id_new\"].unique())) + 1\n",
        "    df = df.merge(temp_places, on='player_id_new', how='left')\n",
        "    df = df.sort_values(by=['player_rating'], ascending=False)\n",
        "    return df\n",
        "\n",
        "\n",
        "train_data = prepare_player_rating_df(reg, train_data)"
      ]
    },
    {
      "cell_type": "code",
      "execution_count": 46,
      "metadata": {
        "colab": {
          "base_uri": "https://localhost:8080/",
          "height": 519
        },
        "id": "QfnS8kT583-_",
        "outputId": "23cb6b3b-184c-4c7d-eb9b-d0699a1ba3b4"
      },
      "outputs": [
        {
          "output_type": "execute_result",
          "data": {
            "text/plain": [
              "         player_id  team_id                        player_name  place  \\\n",
              "2211965      27403    49804            Руссо Максим Михайлович      1   \n",
              "344571        4270    49804     Брутер Александра Владимировна      2   \n",
              "2328660      28751    49804            Семушин Иван Николаевич      3   \n",
              "2256175      27822    71550      Савченков Михаил Владимирович      4   \n",
              "2482113      30270    49804          Спешков Сергей Леонидович      5   \n",
              "2460715      30152    49804           Сорожкин Артём Сергеевич      6   \n",
              "1440803      18036    45556          Левандовский Михаил Ильич      7   \n",
              "1658923      20691      670  Мереминский Станислав Григорьевич      8   \n",
              "5280147      87637    57024        Саксонов Антон Владимирович      9   \n",
              "1828090      22799    45556          Николенко Сергей Игоревич     10   \n",
              "2099215      26089    45556         Прокофьева Ирина Сергеевна     11   \n",
              "1844511      22935    37488             Новиков Илья Сергеевич     12   \n",
              "1745632      21698     1397     Мосягин Александр Владимирович     13   \n",
              "1466995      18332    45556         Либер Александр Витальевич     14   \n",
              "4637698      74001    46381             Мокин Игорь Викторович     15   \n",
              "\n",
              "            score  \n",
              "2211965  4.071563  \n",
              "344571   3.935015  \n",
              "2328660  3.887829  \n",
              "2256175  3.855404  \n",
              "2482113  3.761364  \n",
              "2460715  3.755810  \n",
              "1440803  3.620876  \n",
              "1658923  3.616423  \n",
              "5280147  3.546117  \n",
              "1828090  3.541696  \n",
              "2099215  3.535606  \n",
              "1844511  3.521034  \n",
              "1745632  3.510398  \n",
              "1466995  3.499411  \n",
              "4637698  3.493747  "
            ],
            "text/html": [
              "\n",
              "  <div id=\"df-3c016718-5a17-43f4-bf37-ad0c40f72c96\">\n",
              "    <div class=\"colab-df-container\">\n",
              "      <div>\n",
              "<style scoped>\n",
              "    .dataframe tbody tr th:only-of-type {\n",
              "        vertical-align: middle;\n",
              "    }\n",
              "\n",
              "    .dataframe tbody tr th {\n",
              "        vertical-align: top;\n",
              "    }\n",
              "\n",
              "    .dataframe thead th {\n",
              "        text-align: right;\n",
              "    }\n",
              "</style>\n",
              "<table border=\"1\" class=\"dataframe\">\n",
              "  <thead>\n",
              "    <tr style=\"text-align: right;\">\n",
              "      <th></th>\n",
              "      <th>player_id</th>\n",
              "      <th>team_id</th>\n",
              "      <th>player_name</th>\n",
              "      <th>place</th>\n",
              "      <th>score</th>\n",
              "    </tr>\n",
              "  </thead>\n",
              "  <tbody>\n",
              "    <tr>\n",
              "      <th>2211965</th>\n",
              "      <td>27403</td>\n",
              "      <td>49804</td>\n",
              "      <td>Руссо Максим Михайлович</td>\n",
              "      <td>1</td>\n",
              "      <td>4.071563</td>\n",
              "    </tr>\n",
              "    <tr>\n",
              "      <th>344571</th>\n",
              "      <td>4270</td>\n",
              "      <td>49804</td>\n",
              "      <td>Брутер Александра Владимировна</td>\n",
              "      <td>2</td>\n",
              "      <td>3.935015</td>\n",
              "    </tr>\n",
              "    <tr>\n",
              "      <th>2328660</th>\n",
              "      <td>28751</td>\n",
              "      <td>49804</td>\n",
              "      <td>Семушин Иван Николаевич</td>\n",
              "      <td>3</td>\n",
              "      <td>3.887829</td>\n",
              "    </tr>\n",
              "    <tr>\n",
              "      <th>2256175</th>\n",
              "      <td>27822</td>\n",
              "      <td>71550</td>\n",
              "      <td>Савченков Михаил Владимирович</td>\n",
              "      <td>4</td>\n",
              "      <td>3.855404</td>\n",
              "    </tr>\n",
              "    <tr>\n",
              "      <th>2482113</th>\n",
              "      <td>30270</td>\n",
              "      <td>49804</td>\n",
              "      <td>Спешков Сергей Леонидович</td>\n",
              "      <td>5</td>\n",
              "      <td>3.761364</td>\n",
              "    </tr>\n",
              "    <tr>\n",
              "      <th>2460715</th>\n",
              "      <td>30152</td>\n",
              "      <td>49804</td>\n",
              "      <td>Сорожкин Артём Сергеевич</td>\n",
              "      <td>6</td>\n",
              "      <td>3.755810</td>\n",
              "    </tr>\n",
              "    <tr>\n",
              "      <th>1440803</th>\n",
              "      <td>18036</td>\n",
              "      <td>45556</td>\n",
              "      <td>Левандовский Михаил Ильич</td>\n",
              "      <td>7</td>\n",
              "      <td>3.620876</td>\n",
              "    </tr>\n",
              "    <tr>\n",
              "      <th>1658923</th>\n",
              "      <td>20691</td>\n",
              "      <td>670</td>\n",
              "      <td>Мереминский Станислав Григорьевич</td>\n",
              "      <td>8</td>\n",
              "      <td>3.616423</td>\n",
              "    </tr>\n",
              "    <tr>\n",
              "      <th>5280147</th>\n",
              "      <td>87637</td>\n",
              "      <td>57024</td>\n",
              "      <td>Саксонов Антон Владимирович</td>\n",
              "      <td>9</td>\n",
              "      <td>3.546117</td>\n",
              "    </tr>\n",
              "    <tr>\n",
              "      <th>1828090</th>\n",
              "      <td>22799</td>\n",
              "      <td>45556</td>\n",
              "      <td>Николенко Сергей Игоревич</td>\n",
              "      <td>10</td>\n",
              "      <td>3.541696</td>\n",
              "    </tr>\n",
              "    <tr>\n",
              "      <th>2099215</th>\n",
              "      <td>26089</td>\n",
              "      <td>45556</td>\n",
              "      <td>Прокофьева Ирина Сергеевна</td>\n",
              "      <td>11</td>\n",
              "      <td>3.535606</td>\n",
              "    </tr>\n",
              "    <tr>\n",
              "      <th>1844511</th>\n",
              "      <td>22935</td>\n",
              "      <td>37488</td>\n",
              "      <td>Новиков Илья Сергеевич</td>\n",
              "      <td>12</td>\n",
              "      <td>3.521034</td>\n",
              "    </tr>\n",
              "    <tr>\n",
              "      <th>1745632</th>\n",
              "      <td>21698</td>\n",
              "      <td>1397</td>\n",
              "      <td>Мосягин Александр Владимирович</td>\n",
              "      <td>13</td>\n",
              "      <td>3.510398</td>\n",
              "    </tr>\n",
              "    <tr>\n",
              "      <th>1466995</th>\n",
              "      <td>18332</td>\n",
              "      <td>45556</td>\n",
              "      <td>Либер Александр Витальевич</td>\n",
              "      <td>14</td>\n",
              "      <td>3.499411</td>\n",
              "    </tr>\n",
              "    <tr>\n",
              "      <th>4637698</th>\n",
              "      <td>74001</td>\n",
              "      <td>46381</td>\n",
              "      <td>Мокин Игорь Викторович</td>\n",
              "      <td>15</td>\n",
              "      <td>3.493747</td>\n",
              "    </tr>\n",
              "  </tbody>\n",
              "</table>\n",
              "</div>\n",
              "      <button class=\"colab-df-convert\" onclick=\"convertToInteractive('df-3c016718-5a17-43f4-bf37-ad0c40f72c96')\"\n",
              "              title=\"Convert this dataframe to an interactive table.\"\n",
              "              style=\"display:none;\">\n",
              "        \n",
              "  <svg xmlns=\"http://www.w3.org/2000/svg\" height=\"24px\"viewBox=\"0 0 24 24\"\n",
              "       width=\"24px\">\n",
              "    <path d=\"M0 0h24v24H0V0z\" fill=\"none\"/>\n",
              "    <path d=\"M18.56 5.44l.94 2.06.94-2.06 2.06-.94-2.06-.94-.94-2.06-.94 2.06-2.06.94zm-11 1L8.5 8.5l.94-2.06 2.06-.94-2.06-.94L8.5 2.5l-.94 2.06-2.06.94zm10 10l.94 2.06.94-2.06 2.06-.94-2.06-.94-.94-2.06-.94 2.06-2.06.94z\"/><path d=\"M17.41 7.96l-1.37-1.37c-.4-.4-.92-.59-1.43-.59-.52 0-1.04.2-1.43.59L10.3 9.45l-7.72 7.72c-.78.78-.78 2.05 0 2.83L4 21.41c.39.39.9.59 1.41.59.51 0 1.02-.2 1.41-.59l7.78-7.78 2.81-2.81c.8-.78.8-2.07 0-2.86zM5.41 20L4 18.59l7.72-7.72 1.47 1.35L5.41 20z\"/>\n",
              "  </svg>\n",
              "      </button>\n",
              "      \n",
              "  <style>\n",
              "    .colab-df-container {\n",
              "      display:flex;\n",
              "      flex-wrap:wrap;\n",
              "      gap: 12px;\n",
              "    }\n",
              "\n",
              "    .colab-df-convert {\n",
              "      background-color: #E8F0FE;\n",
              "      border: none;\n",
              "      border-radius: 50%;\n",
              "      cursor: pointer;\n",
              "      display: none;\n",
              "      fill: #1967D2;\n",
              "      height: 32px;\n",
              "      padding: 0 0 0 0;\n",
              "      width: 32px;\n",
              "    }\n",
              "\n",
              "    .colab-df-convert:hover {\n",
              "      background-color: #E2EBFA;\n",
              "      box-shadow: 0px 1px 2px rgba(60, 64, 67, 0.3), 0px 1px 3px 1px rgba(60, 64, 67, 0.15);\n",
              "      fill: #174EA6;\n",
              "    }\n",
              "\n",
              "    [theme=dark] .colab-df-convert {\n",
              "      background-color: #3B4455;\n",
              "      fill: #D2E3FC;\n",
              "    }\n",
              "\n",
              "    [theme=dark] .colab-df-convert:hover {\n",
              "      background-color: #434B5C;\n",
              "      box-shadow: 0px 1px 3px 1px rgba(0, 0, 0, 0.15);\n",
              "      filter: drop-shadow(0px 1px 2px rgba(0, 0, 0, 0.3));\n",
              "      fill: #FFFFFF;\n",
              "    }\n",
              "  </style>\n",
              "\n",
              "      <script>\n",
              "        const buttonEl =\n",
              "          document.querySelector('#df-3c016718-5a17-43f4-bf37-ad0c40f72c96 button.colab-df-convert');\n",
              "        buttonEl.style.display =\n",
              "          google.colab.kernel.accessAllowed ? 'block' : 'none';\n",
              "\n",
              "        async function convertToInteractive(key) {\n",
              "          const element = document.querySelector('#df-3c016718-5a17-43f4-bf37-ad0c40f72c96');\n",
              "          const dataTable =\n",
              "            await google.colab.kernel.invokeFunction('convertToInteractive',\n",
              "                                                     [key], {});\n",
              "          if (!dataTable) return;\n",
              "\n",
              "          const docLinkHtml = 'Like what you see? Visit the ' +\n",
              "            '<a target=\"_blank\" href=https://colab.research.google.com/notebooks/data_table.ipynb>data table notebook</a>'\n",
              "            + ' to learn more about interactive tables.';\n",
              "          element.innerHTML = '';\n",
              "          dataTable['output_type'] = 'display_data';\n",
              "          await google.colab.output.renderOutput(dataTable, element);\n",
              "          const docLink = document.createElement('div');\n",
              "          docLink.innerHTML = docLinkHtml;\n",
              "          element.appendChild(docLink);\n",
              "        }\n",
              "      </script>\n",
              "    </div>\n",
              "  </div>\n",
              "  "
            ]
          },
          "metadata": {},
          "execution_count": 46
        }
      ],
      "source": [
        "num_of_players = len(train_data[\"player_id_new\"].unique())\n",
        "question_difficulty = reg.coef_[0][num_of_players:] - reg.intercept_\n",
        "player_rating = reg.coef_[0][: num_of_players]\n",
        "\n",
        "n = 15\n",
        "coefs_to_n = np.argsort(player_rating)[::-1][:n]\n",
        "rating = []\n",
        "\n",
        "for i, coef_idx in enumerate(coefs_to_n):\n",
        "    player_id = coef_idx\n",
        "    row = train_data.loc[train_data['player_id_new'] == coef_idx].iloc[0]\n",
        "    row[\"place\"] = i + 1\n",
        "    row[\"score\"] = player_rating[coef_idx]\n",
        "    rating.append(row[[\"player_id\", \"team_id\", \"player_name\", \"place\", \"score\"]])\n",
        "pd.DataFrame(rating)"
      ]
    },
    {
      "cell_type": "code",
      "execution_count": 47,
      "metadata": {
        "colab": {
          "base_uri": "https://localhost:8080/",
          "height": 1000
        },
        "id": "Y1lUFRn33YG3",
        "outputId": "c53919db-7a21-408d-d382-b536fcb2eaf4"
      },
      "outputs": [
        {
          "output_type": "display_data",
          "data": {
            "text/plain": [
              "<Figure size 648x648 with 1 Axes>"
            ],
            "image/png": "[encoded data removed]"
          },
          "metadata": {
            "needs_background": "light"
          }
        },
        {
          "output_type": "display_data",
          "data": {
            "text/plain": [
              "<Figure size 648x648 with 1 Axes>"
            ],
            "image/png": "[encoded data removed]"
          },
          "metadata": {
            "needs_background": "light"
          }
        },
        {
          "output_type": "display_data",
          "data": {
            "text/plain": [
              "<Figure size 648x648 with 1 Axes>"
            ],
            "image/png": "[encoded data removed]"
          },
          "metadata": {
            "needs_background": "light"
          }
        }
      ],
      "source": [
        "# Число вопросов\n",
        "plt.figure(figsize=(9, 9))\n",
        "sns.histplot(train_data[\"tournament_ans_mean\"], bins=100, color=\"indigo\")\n",
        "plt.grid()\n",
        "plt.xlabel(\"Доля верных ответов на соревновании\")\n",
        "plt.title(\"Игроков ответили верно\")\n",
        "plt.show()\n",
        "\n",
        "\n",
        "plt.figure(figsize=(9, 9))\n",
        "sns.histplot(player_rating, bins=100, color=\"red\")\n",
        "plt.grid()\n",
        "plt.xlabel(\"Вес\")\n",
        "plt.title(\"Распределение рейтинга игроков\")\n",
        "plt.show()\n",
        "\n",
        "\n",
        "plt.figure(figsize=(9, 9))\n",
        "sns.histplot(question_difficulty, bins=100, color=\"green\")\n",
        "plt.grid()\n",
        "plt.xlabel(\"Вес\")\n",
        "plt.title(\"Распределение сложности вопросов\")\n",
        "plt.show()"
      ]
    },
    {
      "cell_type": "markdown",
      "metadata": {
        "id": "xzZCRV8J61uy"
      },
      "source": [
        "## Часть 3"
      ]
    },
    {
      "cell_type": "markdown",
      "metadata": {
        "id": "RF06FWyCPze-"
      },
      "source": [
        "Качество рейтинг-системы оценивается качеством предсказаний результатов турниров. Но сами повопросные результаты наши модели предсказывать вряд ли смогут, ведь неизвестно, насколько сложными окажутся вопросы в будущих турнирах; да и не нужны эти предсказания сами по себе. Поэтому:"
      ]
    },
    {
      "cell_type": "markdown",
      "metadata": {
        "id": "_7CXWOUghjid"
      },
      "source": [
        "Будем считать вероятность ответа игрока на вопрос — это вероятность того что 1 и более игроков в команде ответили правильно, полученную вероятность будем сравнивать с реальной позицией команды полученной из тестовой выборки.\n",
        "\n",
        " $P_n = 1 - \\Pi_{i \\in т}(1 - p_{i})$\n",
        ", где $p_{i}$ - Вероятность игроку $i$ из команды $n$ ответить на вопрос."
      ]
    },
    {
      "cell_type": "code",
      "execution_count": 48,
      "metadata": {
        "id": "3qGKAEcgRX2y"
      },
      "outputs": [],
      "source": [
        "# Подготовим Датасет\n",
        "def sigmoid(x):\n",
        "    return np.exp(-np.logaddexp(0, -x))\n",
        "\n",
        "\n",
        "train_player_ratings = train_data[[\"player_id\", \"player_id_new\", \"player_rating\", \"player_name\"]].drop_duplicates()\n",
        "train_player_ratings[\"sig_rate\"] = sigmoid(train_player_ratings[\"player_rating\"])\n",
        "train_player_ratings['idx'] = train_player_ratings[\"player_id_new\"]\n",
        "train_player_ratings.set_index('idx', inplace=True)\n",
        "train_player_ratings.sort_index(inplace=True)\n",
        "\n",
        "test_data_tour = test_data[[\"tournament_id\", \"team_position\", \"player_id\", \"team_id\"]].drop_duplicates()"
      ]
    },
    {
      "cell_type": "code",
      "execution_count": 49,
      "metadata": {
        "id": "7rcBxRqbGf41"
      },
      "outputs": [],
      "source": [
        "def correlation_definer(test_data_tour=test_data_tour):\n",
        "    spearmanr_values = 0\n",
        "    kendalltau_values = 0\n",
        "    test_size = test_data.tournament_id.nunique()\n",
        "    unic_tournament = test_data_tour.tournament_id.nunique()\n",
        "\n",
        "    for tour_id, tour_df in test_data_tour.groupby(by=['tournament_id']):\n",
        "        team_pred_rate = []\n",
        "        team_true_rate = []\n",
        "\n",
        "        for team_id, cur_team_df in tour_df.sort_values(by='team_position').groupby(by='team_id'):\n",
        "            team_rate_mult = 1\n",
        "            for player_id in cur_team_df['player_id'].values:\n",
        "                if player_id in train_player_ratings.player_id.values:\n",
        "                    team_rate_mult *= 1 - train_player_ratings.loc[train_player_ratings['player_id'] == player_id][\n",
        "                        \"sig_rate\"].values[0]\n",
        "                else:\n",
        "                    team_rate_mult *= 1 - train_player_ratings[\"sig_rate\"].mean()\n",
        "\n",
        "            team_pred_rate.append(((1 - team_rate_mult), int(cur_team_df['team_position'].values[0])))\n",
        "            team_true_rate.append(len(team_pred_rate))\n",
        "        tour_pred = [item[1] for item in sorted(team_pred_rate)]\n",
        "        spearmanr_values += np.abs(spearmanr(team_true_rate, tour_pred).correlation)\n",
        "        kendalltau_values += np.abs(kendalltau(team_true_rate, tour_pred).correlation)\n",
        "\n",
        "    print(f'Усредненный коэффициент Спирмена: {spearmanr_values / test_data.tournament_id.nunique():.3f},',\n",
        "          f'Усредненный коэффициент Кендалла: {kendalltau_values / test_data.tournament_id.nunique():.3f}')\n",
        "    return spearmanr_values / test_data.tournament_id.nunique(), kendalltau_values / test_data.tournament_id.nunique()\n"
      ]
    },
    {
      "cell_type": "code",
      "execution_count": 50,
      "metadata": {
        "colab": {
          "base_uri": "https://localhost:8080/"
        },
        "id": "rIzznkMIr18v",
        "outputId": "4f387d68-c268-4ce5-ed7b-a1a230448bad"
      },
      "outputs": [
        {
          "output_type": "stream",
          "name": "stdout",
          "text": [
            "Усредненный коэффициент Спирмена: 0.742, Усредненный коэффициент Кендалла: 0.585\n"
          ]
        },
        {
          "output_type": "execute_result",
          "data": {
            "text/plain": [
              "(0.7421436014591516, 0.5853049870248561)"
            ]
          },
          "metadata": {},
          "execution_count": 50
        }
      ],
      "source": [
        "correlation_definer()"
      ]
    },
    {
      "cell_type": "markdown",
      "metadata": {
        "id": "dNoFz3wgQbud"
      },
      "source": [
        "## Часть 4"
      ]
    },
    {
      "cell_type": "markdown",
      "metadata": {
        "id": "7z6AtM1rmIlw"
      },
      "source": [
        "Инициализируем началальные веса, как вероятности ответов игрока на вопрос не зависимо от команды (получим их из лог регрессии полученной выше)\n",
        "\n",
        "В ЕМ-схеме на Е-шаге: \n",
        "- Вычисляем скрытую переменную $z_i$, показывающую вероятность ответить на вопрос при условии того, что игрок состоит в конкретной команде. Далее предполагаем, что команда отвечает правильно, если хоть один игрок из команды знает верный ответ.\n",
        "\n",
        "$E\\left[z_{q,n,p}\\right]=0$. Если команда $n$ не ответила на вопрос $q$\n",
        "\n",
        "$E\\left[z_{q,n,p}\\right]= \\frac{P(p \\mid q, \\theta)}{P(n \\mid q)}=\\frac{P(p \\mid q, \\theta)}{1-\\prod_{p^{\\prime} \\in n}\\left(1-P\\left(p^{\\prime} \\mid q, \\theta\\right)\\right)}$. \n",
        "Если команда $n$ ответила на вопрос $q$\n",
        "\n",
        "На  M-шаге обучаем линейную регрессию с помощью $\\operatorname{logit}$."
      ]
    },
    {
      "cell_type": "code",
      "execution_count": 51,
      "metadata": {
        "id": "0uGGSX8-mxjl"
      },
      "outputs": [],
      "source": [
        "class EmAlgoritm():\n",
        "\n",
        "    def __init__(self, model):\n",
        "        self.best_model = model\n",
        "        self.model = model\n",
        "        self.best_sp_corr = 0\n",
        "        self.best_kn_corr = 0\n",
        "\n",
        "    def corr_def_help(self):\n",
        "        train_player_ratings['rating'] = self.model.coef_[: num_of_players]\n",
        "        train_player_ratings['sig_rate'] = sigmoid(train_player_ratings['rating'])\n",
        "\n",
        "        return correlation_definer()\n",
        "\n",
        "    def fit(self, train_df, train_X_, train_y_, n=10):\n",
        "        print(\"обучение EM модели ...\")\n",
        "        train_df['rate'] = reg.predict_proba(train_x)[:, 1]\n",
        "        for _ in tqdm(range(n), position=0, leave=True):\n",
        "            # E шаг\n",
        "            train_df['1-rate'] = 1 - train_df['rate']\n",
        "            teams = 1 - train_df.groupby(['tournament_id', 'team_id', 'ask_num_new'])['1-rate'].prod()\n",
        "            train_df = train_df.merge(teams.rename('team_rate'), left_on=['tournament_id', 'team_id', 'ask_num_new'],\n",
        "                                      right_index=True)\n",
        "            train_df['z'] = train_df['rate'] / train_df['team_rate']\n",
        "            train_df['z'] = np.where(train_y_ == 0, 0, train_df['z'])\n",
        "            train_df['z'] = np.clip(train_df['z'], 1e-5, 1 - 1e-5)\n",
        "\n",
        "            # M шаг\n",
        "            self.model.fit(train_X_, logit(train_df['z']))\n",
        "            train_df['rate'] = expit(self.model.predict(train_X_))\n",
        "            train_df = train_df.drop(columns='team_rate')\n",
        "\n",
        "            sp_corr, kn_corr = self.corr_def_help()\n",
        "            if sp_corr > self.best_sp_corr and kn_corr > self.best_kn_corr:\n",
        "                self.best_sp_corr, self.best_kn_corr = sp_corr, kn_corr\n",
        "                print(f\"Сохранение модели с усредненным коэффициентом Спирмена {sp_corr} и Кендалла {kn_corr}\")\n",
        "                self.best_model = self.model\n",
        "        train_df.drop(columns='rate')\n"
      ]
    },
    {
      "cell_type": "code",
      "execution_count": 52,
      "metadata": {
        "colab": {
          "base_uri": "https://localhost:8080/"
        },
        "id": "MM_dDI5lpgPH",
        "outputId": "457a0d9f-0555-4887-ae71-bbf4807d99e9"
      },
      "outputs": [
        {
          "output_type": "stream",
          "name": "stdout",
          "text": [
            "обучение EM модели ...\n"
          ]
        },
        {
          "output_type": "stream",
          "name": "stderr",
          "text": [
            " 10%|█         | 1/10 [03:22<30:24, 202.74s/it]"
          ]
        },
        {
          "output_type": "stream",
          "name": "stdout",
          "text": [
            "Усредненный коэффициент Спирмена: 0.759, Усредненный коэффициент Кендалла: 0.605\n",
            "Сохранение модели с усредненным коэффициентом Спирмена 0.7591174712539766 и Кендалла 0.6049594198927707\n"
          ]
        },
        {
          "output_type": "stream",
          "name": "stderr",
          "text": [
            "\r 20%|██        | 2/10 [07:00<28:13, 211.73s/it]"
          ]
        },
        {
          "output_type": "stream",
          "name": "stdout",
          "text": [
            "Усредненный коэффициент Спирмена: 0.756, Усредненный коэффициент Кендалла: 0.603\n"
          ]
        },
        {
          "output_type": "stream",
          "name": "stderr",
          "text": [
            "\r 30%|███       | 3/10 [10:49<25:37, 219.65s/it]"
          ]
        },
        {
          "output_type": "stream",
          "name": "stdout",
          "text": [
            "Усредненный коэффициент Спирмена: 0.752, Усредненный коэффициент Кендалла: 0.597\n"
          ]
        },
        {
          "output_type": "stream",
          "name": "stderr",
          "text": [
            "\r 40%|████      | 4/10 [14:29<21:58, 219.82s/it]"
          ]
        },
        {
          "output_type": "stream",
          "name": "stdout",
          "text": [
            "Усредненный коэффициент Спирмена: 0.752, Усредненный коэффициент Кендалла: 0.597\n"
          ]
        },
        {
          "output_type": "stream",
          "name": "stderr",
          "text": [
            "\r 50%|█████     | 5/10 [18:08<18:16, 219.39s/it]"
          ]
        },
        {
          "output_type": "stream",
          "name": "stdout",
          "text": [
            "Усредненный коэффициент Спирмена: 0.750, Усредненный коэффициент Кендалла: 0.596\n"
          ]
        },
        {
          "output_type": "stream",
          "name": "stderr",
          "text": [
            "\r 60%|██████    | 6/10 [21:53<14:44, 221.21s/it]"
          ]
        },
        {
          "output_type": "stream",
          "name": "stdout",
          "text": [
            "Усредненный коэффициент Спирмена: 0.750, Усредненный коэффициент Кендалла: 0.596\n"
          ]
        },
        {
          "output_type": "stream",
          "name": "stderr",
          "text": [
            "\r 70%|███████   | 7/10 [25:32<11:01, 220.47s/it]"
          ]
        },
        {
          "output_type": "stream",
          "name": "stdout",
          "text": [
            "Усредненный коэффициент Спирмена: 0.750, Усредненный коэффициент Кендалла: 0.595\n"
          ]
        },
        {
          "output_type": "stream",
          "name": "stderr",
          "text": [
            "\r 80%|████████  | 8/10 [29:13<07:21, 220.59s/it]"
          ]
        },
        {
          "output_type": "stream",
          "name": "stdout",
          "text": [
            "Усредненный коэффициент Спирмена: 0.750, Усредненный коэффициент Кендалла: 0.595\n"
          ]
        },
        {
          "output_type": "stream",
          "name": "stderr",
          "text": [
            "\r 90%|█████████ | 9/10 [32:54<03:40, 220.85s/it]"
          ]
        },
        {
          "output_type": "stream",
          "name": "stdout",
          "text": [
            "Усредненный коэффициент Спирмена: 0.749, Усредненный коэффициент Кендалла: 0.594\n"
          ]
        },
        {
          "output_type": "stream",
          "name": "stderr",
          "text": [
            "100%|██████████| 10/10 [36:34<00:00, 219.43s/it]"
          ]
        },
        {
          "output_type": "stream",
          "name": "stdout",
          "text": [
            "Усредненный коэффициент Спирмена: 0.749, Усредненный коэффициент Кендалла: 0.594\n"
          ]
        },
        {
          "output_type": "stream",
          "name": "stderr",
          "text": [
            "\n"
          ]
        }
      ],
      "source": [
        "em_algo = EmAlgoritm(LinearRegression())\n",
        "em_algo.fit(train_data, train_x, train_y)\n",
        "best_model = em_algo.best_model"
      ]
    },
    {
      "cell_type": "code",
      "execution_count": 53,
      "metadata": {
        "id": "nuQwoYsb6-49"
      },
      "outputs": [],
      "source": [
        "# import pickle\n",
        "\n",
        "# pickle.dump(best_model, open(\"/content/drive/MyDrive/chgk/best_model_temp_one.sav\", 'wb'))\n",
        "# reg  = pickle.load(open(\"/content/drive/MyDrive/chgk/best_model_temp_one.sav\", 'wb'))"
      ]
    },
    {
      "cell_type": "markdown",
      "metadata": {
        "id": "wdrOK15kXy-Y"
      },
      "source": [
        "Видно, что с каждым шагом расчетные метрики улучшаются."
      ]
    },
    {
      "cell_type": "code",
      "execution_count": 54,
      "metadata": {
        "colab": {
          "base_uri": "https://localhost:8080/",
          "height": 519
        },
        "id": "I_becK8b0uOO",
        "outputId": "7ef5fc8c-da7a-49ec-dfe6-5aa4d3189dce"
      },
      "outputs": [
        {
          "output_type": "execute_result",
          "data": {
            "text/plain": [
              "          player_id  team_id                       player_name  place  \\\n",
              "12588019     193314    70010                 Кинзерская Ольга       1   \n",
              "2097093       26026    71961     Приходченко Сергей Дмитриевич      2   \n",
              "14620811     218017    76345             Попко Дарья Андреевна      3   \n",
              "14652043     219422    76725                Куплевацкий Роман       4   \n",
              "14522651     215829    75879     Мартиросова Юлия Владимировна      5   \n",
              "14177108     210074    67195              Костерева Анастасия       6   \n",
              "14177063     210073    67195                   Брилёв Арсений       7   \n",
              "12213341     190078    69174         Ревтова Марина Николаевна      8   \n",
              "14652070     219423    76725                Тынгаев Александр       9   \n",
              "13313133     201638    71427         Балтачев Альберт Якубович     10   \n",
              "764325         9803     6856  Дружинин Константин Владеленович     11   \n",
              "13710470     206234    60920            Савицкий Роман Юрьевич     12   \n",
              "12749201     195068    58304              Нгуен Мария Хоановна     13   \n",
              "7708730      126940    53728          Редько Сергей Николаевич     14   \n",
              "3161283       38647    51739        Калачёв Виталий Николаевич     15   \n",
              "\n",
              "              score  \n",
              "12588019  12.540161  \n",
              "2097093   11.044190  \n",
              "14620811   8.964242  \n",
              "14652043   8.648556  \n",
              "14522651   8.645678  \n",
              "14177108   8.308510  \n",
              "14177063   8.308510  \n",
              "12213341   8.100027  \n",
              "14652070   7.164429  \n",
              "13313133   7.048080  \n",
              "764325     6.833727  \n",
              "13710470   6.775251  \n",
              "12749201   6.745926  \n",
              "7708730    6.519335  \n",
              "3161283    6.436352  "
            ],
            "text/html": [
              "\n",
              "  <div id=\"df-6e6eab0b-d1e6-4b0e-8d96-892cb1254879\">\n",
              "    <div class=\"colab-df-container\">\n",
              "      <div>\n",
              "<style scoped>\n",
              "    .dataframe tbody tr th:only-of-type {\n",
              "        vertical-align: middle;\n",
              "    }\n",
              "\n",
              "    .dataframe tbody tr th {\n",
              "        vertical-align: top;\n",
              "    }\n",
              "\n",
              "    .dataframe thead th {\n",
              "        text-align: right;\n",
              "    }\n",
              "</style>\n",
              "<table border=\"1\" class=\"dataframe\">\n",
              "  <thead>\n",
              "    <tr style=\"text-align: right;\">\n",
              "      <th></th>\n",
              "      <th>player_id</th>\n",
              "      <th>team_id</th>\n",
              "      <th>player_name</th>\n",
              "      <th>place</th>\n",
              "      <th>score</th>\n",
              "    </tr>\n",
              "  </thead>\n",
              "  <tbody>\n",
              "    <tr>\n",
              "      <th>12588019</th>\n",
              "      <td>193314</td>\n",
              "      <td>70010</td>\n",
              "      <td>Кинзерская Ольга</td>\n",
              "      <td>1</td>\n",
              "      <td>12.540161</td>\n",
              "    </tr>\n",
              "    <tr>\n",
              "      <th>2097093</th>\n",
              "      <td>26026</td>\n",
              "      <td>71961</td>\n",
              "      <td>Приходченко Сергей Дмитриевич</td>\n",
              "      <td>2</td>\n",
              "      <td>11.044190</td>\n",
              "    </tr>\n",
              "    <tr>\n",
              "      <th>14620811</th>\n",
              "      <td>218017</td>\n",
              "      <td>76345</td>\n",
              "      <td>Попко Дарья Андреевна</td>\n",
              "      <td>3</td>\n",
              "      <td>8.964242</td>\n",
              "    </tr>\n",
              "    <tr>\n",
              "      <th>14652043</th>\n",
              "      <td>219422</td>\n",
              "      <td>76725</td>\n",
              "      <td>Куплевацкий Роман</td>\n",
              "      <td>4</td>\n",
              "      <td>8.648556</td>\n",
              "    </tr>\n",
              "    <tr>\n",
              "      <th>14522651</th>\n",
              "      <td>215829</td>\n",
              "      <td>75879</td>\n",
              "      <td>Мартиросова Юлия Владимировна</td>\n",
              "      <td>5</td>\n",
              "      <td>8.645678</td>\n",
              "    </tr>\n",
              "    <tr>\n",
              "      <th>14177108</th>\n",
              "      <td>210074</td>\n",
              "      <td>67195</td>\n",
              "      <td>Костерева Анастасия</td>\n",
              "      <td>6</td>\n",
              "      <td>8.308510</td>\n",
              "    </tr>\n",
              "    <tr>\n",
              "      <th>14177063</th>\n",
              "      <td>210073</td>\n",
              "      <td>67195</td>\n",
              "      <td>Брилёв Арсений</td>\n",
              "      <td>7</td>\n",
              "      <td>8.308510</td>\n",
              "    </tr>\n",
              "    <tr>\n",
              "      <th>12213341</th>\n",
              "      <td>190078</td>\n",
              "      <td>69174</td>\n",
              "      <td>Ревтова Марина Николаевна</td>\n",
              "      <td>8</td>\n",
              "      <td>8.100027</td>\n",
              "    </tr>\n",
              "    <tr>\n",
              "      <th>14652070</th>\n",
              "      <td>219423</td>\n",
              "      <td>76725</td>\n",
              "      <td>Тынгаев Александр</td>\n",
              "      <td>9</td>\n",
              "      <td>7.164429</td>\n",
              "    </tr>\n",
              "    <tr>\n",
              "      <th>13313133</th>\n",
              "      <td>201638</td>\n",
              "      <td>71427</td>\n",
              "      <td>Балтачев Альберт Якубович</td>\n",
              "      <td>10</td>\n",
              "      <td>7.048080</td>\n",
              "    </tr>\n",
              "    <tr>\n",
              "      <th>764325</th>\n",
              "      <td>9803</td>\n",
              "      <td>6856</td>\n",
              "      <td>Дружинин Константин Владеленович</td>\n",
              "      <td>11</td>\n",
              "      <td>6.833727</td>\n",
              "    </tr>\n",
              "    <tr>\n",
              "      <th>13710470</th>\n",
              "      <td>206234</td>\n",
              "      <td>60920</td>\n",
              "      <td>Савицкий Роман Юрьевич</td>\n",
              "      <td>12</td>\n",
              "      <td>6.775251</td>\n",
              "    </tr>\n",
              "    <tr>\n",
              "      <th>12749201</th>\n",
              "      <td>195068</td>\n",
              "      <td>58304</td>\n",
              "      <td>Нгуен Мария Хоановна</td>\n",
              "      <td>13</td>\n",
              "      <td>6.745926</td>\n",
              "    </tr>\n",
              "    <tr>\n",
              "      <th>7708730</th>\n",
              "      <td>126940</td>\n",
              "      <td>53728</td>\n",
              "      <td>Редько Сергей Николаевич</td>\n",
              "      <td>14</td>\n",
              "      <td>6.519335</td>\n",
              "    </tr>\n",
              "    <tr>\n",
              "      <th>3161283</th>\n",
              "      <td>38647</td>\n",
              "      <td>51739</td>\n",
              "      <td>Калачёв Виталий Николаевич</td>\n",
              "      <td>15</td>\n",
              "      <td>6.436352</td>\n",
              "    </tr>\n",
              "  </tbody>\n",
              "</table>\n",
              "</div>\n",
              "      <button class=\"colab-df-convert\" onclick=\"convertToInteractive('df-6e6eab0b-d1e6-4b0e-8d96-892cb1254879')\"\n",
              "              title=\"Convert this dataframe to an interactive table.\"\n",
              "              style=\"display:none;\">\n",
              "        \n",
              "  <svg xmlns=\"http://www.w3.org/2000/svg\" height=\"24px\"viewBox=\"0 0 24 24\"\n",
              "       width=\"24px\">\n",
              "    <path d=\"M0 0h24v24H0V0z\" fill=\"none\"/>\n",
              "    <path d=\"M18.56 5.44l.94 2.06.94-2.06 2.06-.94-2.06-.94-.94-2.06-.94 2.06-2.06.94zm-11 1L8.5 8.5l.94-2.06 2.06-.94-2.06-.94L8.5 2.5l-.94 2.06-2.06.94zm10 10l.94 2.06.94-2.06 2.06-.94-2.06-.94-.94-2.06-.94 2.06-2.06.94z\"/><path d=\"M17.41 7.96l-1.37-1.37c-.4-.4-.92-.59-1.43-.59-.52 0-1.04.2-1.43.59L10.3 9.45l-7.72 7.72c-.78.78-.78 2.05 0 2.83L4 21.41c.39.39.9.59 1.41.59.51 0 1.02-.2 1.41-.59l7.78-7.78 2.81-2.81c.8-.78.8-2.07 0-2.86zM5.41 20L4 18.59l7.72-7.72 1.47 1.35L5.41 20z\"/>\n",
              "  </svg>\n",
              "      </button>\n",
              "      \n",
              "  <style>\n",
              "    .colab-df-container {\n",
              "      display:flex;\n",
              "      flex-wrap:wrap;\n",
              "      gap: 12px;\n",
              "    }\n",
              "\n",
              "    .colab-df-convert {\n",
              "      background-color: #E8F0FE;\n",
              "      border: none;\n",
              "      border-radius: 50%;\n",
              "      cursor: pointer;\n",
              "      display: none;\n",
              "      fill: #1967D2;\n",
              "      height: 32px;\n",
              "      padding: 0 0 0 0;\n",
              "      width: 32px;\n",
              "    }\n",
              "\n",
              "    .colab-df-convert:hover {\n",
              "      background-color: #E2EBFA;\n",
              "      box-shadow: 0px 1px 2px rgba(60, 64, 67, 0.3), 0px 1px 3px 1px rgba(60, 64, 67, 0.15);\n",
              "      fill: #174EA6;\n",
              "    }\n",
              "\n",
              "    [theme=dark] .colab-df-convert {\n",
              "      background-color: #3B4455;\n",
              "      fill: #D2E3FC;\n",
              "    }\n",
              "\n",
              "    [theme=dark] .colab-df-convert:hover {\n",
              "      background-color: #434B5C;\n",
              "      box-shadow: 0px 1px 3px 1px rgba(0, 0, 0, 0.15);\n",
              "      filter: drop-shadow(0px 1px 2px rgba(0, 0, 0, 0.3));\n",
              "      fill: #FFFFFF;\n",
              "    }\n",
              "  </style>\n",
              "\n",
              "      <script>\n",
              "        const buttonEl =\n",
              "          document.querySelector('#df-6e6eab0b-d1e6-4b0e-8d96-892cb1254879 button.colab-df-convert');\n",
              "        buttonEl.style.display =\n",
              "          google.colab.kernel.accessAllowed ? 'block' : 'none';\n",
              "\n",
              "        async function convertToInteractive(key) {\n",
              "          const element = document.querySelector('#df-6e6eab0b-d1e6-4b0e-8d96-892cb1254879');\n",
              "          const dataTable =\n",
              "            await google.colab.kernel.invokeFunction('convertToInteractive',\n",
              "                                                     [key], {});\n",
              "          if (!dataTable) return;\n",
              "\n",
              "          const docLinkHtml = 'Like what you see? Visit the ' +\n",
              "            '<a target=\"_blank\" href=https://colab.research.google.com/notebooks/data_table.ipynb>data table notebook</a>'\n",
              "            + ' to learn more about interactive tables.';\n",
              "          element.innerHTML = '';\n",
              "          dataTable['output_type'] = 'display_data';\n",
              "          await google.colab.output.renderOutput(dataTable, element);\n",
              "          const docLink = document.createElement('div');\n",
              "          docLink.innerHTML = docLinkHtml;\n",
              "          element.appendChild(docLink);\n",
              "        }\n",
              "      </script>\n",
              "    </div>\n",
              "  </div>\n",
              "  "
            ]
          },
          "metadata": {},
          "execution_count": 54
        }
      ],
      "source": [
        "# построим новый рейтинг лист исходя из новых результатов\n",
        "num_of_players = len(train_data[\"player_id_new\"].unique())\n",
        "question_difficulty = best_model.coef_[num_of_players:] - best_model.intercept_\n",
        "player_rating = best_model.coef_[: num_of_players]\n",
        "\n",
        "n = 15\n",
        "coefs_to_n = np.argsort(player_rating)[::-1][:n]\n",
        "rating = []\n",
        "\n",
        "for i, coef_idx in enumerate(coefs_to_n):\n",
        "    player_id = coef_idx\n",
        "    row = train_data.loc[train_data['player_id_new'] == coef_idx].iloc[0]\n",
        "    row[\"place\"] = i + 1\n",
        "    row[\"score\"] = player_rating[coef_idx]\n",
        "    rating.append(row[[\"player_id\", \"team_id\", \"player_name\", \"place\", \"score\"]])\n",
        "pd.DataFrame(rating)\n"
      ]
    },
    {
      "cell_type": "markdown",
      "metadata": {
        "id": "oSRjTKY4YAdt"
      },
      "source": [
        "# Часть 5"
      ]
    },
    {
      "cell_type": "markdown",
      "metadata": {
        "id": "DxwtgQHqRPdx"
      },
      "source": [
        "А что там с вопросами? Постройте “рейтинг-лист” турниров по сложности вопросов. Соответствует ли он интуиции (например, на чемпионате мира в целом должны быть сложные вопросы, а на турнирах для школьников — простые)? Если будет интересно: постройте топ сложных и простых вопросов со ссылками на конкретные записи в базе вопросов ЧГК (это чисто техническое дело, тут никакого ML нету)."
      ]
    },
    {
      "cell_type": "code",
      "execution_count": 55,
      "metadata": {
        "id": "0kLmfDvl5ZL9"
      },
      "outputs": [],
      "source": [
        "question = reg.coef_[0][num_of_players:] - reg.intercept_\n",
        "index_q = dict(np.column_stack((encoder.categories_[1], question)))"
      ]
    },
    {
      "cell_type": "code",
      "execution_count": 56,
      "metadata": {
        "id": "paNObOPtCYg2"
      },
      "outputs": [],
      "source": [
        "rate_list = train_data[['tournament_id', 'ask_num_new']].drop_duplicates()\n",
        "rate_list['questions_rate'] = -1 * rate_list['ask_num_new'].map(index_q)\n",
        "rate_list = rate_list.groupby('tournament_id')['questions_rate'].mean().reset_index()\n",
        "rate_list = rate_list.merge(tournaments_df[['name']], left_on='tournament_id', right_index=True)\n",
        "rate_list = rate_list.sort_values(by='questions_rate', ascending=False)\n",
        "rate_list['rate_place'] = np.arange(len(rate_list)) + 1"
      ]
    },
    {
      "cell_type": "code",
      "execution_count": 57,
      "metadata": {
        "colab": {
          "base_uri": "https://localhost:8080/",
          "height": 519
        },
        "id": "u3V4o2CgH8L8",
        "outputId": "f96b1667-69a3-4d83-c8cf-696038a84e5e"
      },
      "outputs": [
        {
          "output_type": "execute_result",
          "data": {
            "text/plain": [
              "     tournament_id  questions_rate                                     name  \\\n",
              "603           6149        2.830518  Чемпионат Санкт-Петербурга. Первая лига   \n",
              "488           5928        0.696936                              Угрюмый Ёрш   \n",
              "35            5159        0.469525             Первенство правого полушария   \n",
              "579           6101        0.377822                       Воображаемый музей   \n",
              "254           5587        0.195432                         Записки охотника   \n",
              "12            5025        0.125554                            Кубок городов   \n",
              "22            5083        0.086222                        Ускользающая сова   \n",
              "342           5693        0.075472                         Знание – Сила VI   \n",
              "200           5515       -0.038892  Чемпионат Минска. Лига А. Тур четвёртый   \n",
              "157           5465       -0.039364                         Чемпионат России   \n",
              "500           5943       -0.053751          Чемпионат Мира. Этап 2 Группа С   \n",
              "367           5741       -0.064588                   All Cats Are Beautiful   \n",
              "499           5942       -0.073215         Чемпионат Мира. Этап 2. Группа В   \n",
              "41            5186       -0.082639         VERSUS: Коробейников vs. Матвеев   \n",
              "36            5161       -0.111723                                Антибинго   \n",
              "\n",
              "     rate_place  \n",
              "603           1  \n",
              "488           2  \n",
              "35            3  \n",
              "579           4  \n",
              "254           5  \n",
              "12            6  \n",
              "22            7  \n",
              "342           8  \n",
              "200           9  \n",
              "157          10  \n",
              "500          11  \n",
              "367          12  \n",
              "499          13  \n",
              "41           14  \n",
              "36           15  "
            ],
            "text/html": [
              "\n",
              "  <div id=\"df-b60726a7-2d6a-4777-97eb-b58a98d40b63\">\n",
              "    <div class=\"colab-df-container\">\n",
              "      <div>\n",
              "<style scoped>\n",
              "    .dataframe tbody tr th:only-of-type {\n",
              "        vertical-align: middle;\n",
              "    }\n",
              "\n",
              "    .dataframe tbody tr th {\n",
              "        vertical-align: top;\n",
              "    }\n",
              "\n",
              "    .dataframe thead th {\n",
              "        text-align: right;\n",
              "    }\n",
              "</style>\n",
              "<table border=\"1\" class=\"dataframe\">\n",
              "  <thead>\n",
              "    <tr style=\"text-align: right;\">\n",
              "      <th></th>\n",
              "      <th>tournament_id</th>\n",
              "      <th>questions_rate</th>\n",
              "      <th>name</th>\n",
              "      <th>rate_place</th>\n",
              "    </tr>\n",
              "  </thead>\n",
              "  <tbody>\n",
              "    <tr>\n",
              "      <th>603</th>\n",
              "      <td>6149</td>\n",
              "      <td>2.830518</td>\n",
              "      <td>Чемпионат Санкт-Петербурга. Первая лига</td>\n",
              "      <td>1</td>\n",
              "    </tr>\n",
              "    <tr>\n",
              "      <th>488</th>\n",
              "      <td>5928</td>\n",
              "      <td>0.696936</td>\n",
              "      <td>Угрюмый Ёрш</td>\n",
              "      <td>2</td>\n",
              "    </tr>\n",
              "    <tr>\n",
              "      <th>35</th>\n",
              "      <td>5159</td>\n",
              "      <td>0.469525</td>\n",
              "      <td>Первенство правого полушария</td>\n",
              "      <td>3</td>\n",
              "    </tr>\n",
              "    <tr>\n",
              "      <th>579</th>\n",
              "      <td>6101</td>\n",
              "      <td>0.377822</td>\n",
              "      <td>Воображаемый музей</td>\n",
              "      <td>4</td>\n",
              "    </tr>\n",
              "    <tr>\n",
              "      <th>254</th>\n",
              "      <td>5587</td>\n",
              "      <td>0.195432</td>\n",
              "      <td>Записки охотника</td>\n",
              "      <td>5</td>\n",
              "    </tr>\n",
              "    <tr>\n",
              "      <th>12</th>\n",
              "      <td>5025</td>\n",
              "      <td>0.125554</td>\n",
              "      <td>Кубок городов</td>\n",
              "      <td>6</td>\n",
              "    </tr>\n",
              "    <tr>\n",
              "      <th>22</th>\n",
              "      <td>5083</td>\n",
              "      <td>0.086222</td>\n",
              "      <td>Ускользающая сова</td>\n",
              "      <td>7</td>\n",
              "    </tr>\n",
              "    <tr>\n",
              "      <th>342</th>\n",
              "      <td>5693</td>\n",
              "      <td>0.075472</td>\n",
              "      <td>Знание – Сила VI</td>\n",
              "      <td>8</td>\n",
              "    </tr>\n",
              "    <tr>\n",
              "      <th>200</th>\n",
              "      <td>5515</td>\n",
              "      <td>-0.038892</td>\n",
              "      <td>Чемпионат Минска. Лига А. Тур четвёртый</td>\n",
              "      <td>9</td>\n",
              "    </tr>\n",
              "    <tr>\n",
              "      <th>157</th>\n",
              "      <td>5465</td>\n",
              "      <td>-0.039364</td>\n",
              "      <td>Чемпионат России</td>\n",
              "      <td>10</td>\n",
              "    </tr>\n",
              "    <tr>\n",
              "      <th>500</th>\n",
              "      <td>5943</td>\n",
              "      <td>-0.053751</td>\n",
              "      <td>Чемпионат Мира. Этап 2 Группа С</td>\n",
              "      <td>11</td>\n",
              "    </tr>\n",
              "    <tr>\n",
              "      <th>367</th>\n",
              "      <td>5741</td>\n",
              "      <td>-0.064588</td>\n",
              "      <td>All Cats Are Beautiful</td>\n",
              "      <td>12</td>\n",
              "    </tr>\n",
              "    <tr>\n",
              "      <th>499</th>\n",
              "      <td>5942</td>\n",
              "      <td>-0.073215</td>\n",
              "      <td>Чемпионат Мира. Этап 2. Группа В</td>\n",
              "      <td>13</td>\n",
              "    </tr>\n",
              "    <tr>\n",
              "      <th>41</th>\n",
              "      <td>5186</td>\n",
              "      <td>-0.082639</td>\n",
              "      <td>VERSUS: Коробейников vs. Матвеев</td>\n",
              "      <td>14</td>\n",
              "    </tr>\n",
              "    <tr>\n",
              "      <th>36</th>\n",
              "      <td>5161</td>\n",
              "      <td>-0.111723</td>\n",
              "      <td>Антибинго</td>\n",
              "      <td>15</td>\n",
              "    </tr>\n",
              "  </tbody>\n",
              "</table>\n",
              "</div>\n",
              "      <button class=\"colab-df-convert\" onclick=\"convertToInteractive('df-b60726a7-2d6a-4777-97eb-b58a98d40b63')\"\n",
              "              title=\"Convert this dataframe to an interactive table.\"\n",
              "              style=\"display:none;\">\n",
              "        \n",
              "  <svg xmlns=\"http://www.w3.org/2000/svg\" height=\"24px\"viewBox=\"0 0 24 24\"\n",
              "       width=\"24px\">\n",
              "    <path d=\"M0 0h24v24H0V0z\" fill=\"none\"/>\n",
              "    <path d=\"M18.56 5.44l.94 2.06.94-2.06 2.06-.94-2.06-.94-.94-2.06-.94 2.06-2.06.94zm-11 1L8.5 8.5l.94-2.06 2.06-.94-2.06-.94L8.5 2.5l-.94 2.06-2.06.94zm10 10l.94 2.06.94-2.06 2.06-.94-2.06-.94-.94-2.06-.94 2.06-2.06.94z\"/><path d=\"M17.41 7.96l-1.37-1.37c-.4-.4-.92-.59-1.43-.59-.52 0-1.04.2-1.43.59L10.3 9.45l-7.72 7.72c-.78.78-.78 2.05 0 2.83L4 21.41c.39.39.9.59 1.41.59.51 0 1.02-.2 1.41-.59l7.78-7.78 2.81-2.81c.8-.78.8-2.07 0-2.86zM5.41 20L4 18.59l7.72-7.72 1.47 1.35L5.41 20z\"/>\n",
              "  </svg>\n",
              "      </button>\n",
              "      \n",
              "  <style>\n",
              "    .colab-df-container {\n",
              "      display:flex;\n",
              "      flex-wrap:wrap;\n",
              "      gap: 12px;\n",
              "    }\n",
              "\n",
              "    .colab-df-convert {\n",
              "      background-color: #E8F0FE;\n",
              "      border: none;\n",
              "      border-radius: 50%;\n",
              "      cursor: pointer;\n",
              "      display: none;\n",
              "      fill: #1967D2;\n",
              "      height: 32px;\n",
              "      padding: 0 0 0 0;\n",
              "      width: 32px;\n",
              "    }\n",
              "\n",
              "    .colab-df-convert:hover {\n",
              "      background-color: #E2EBFA;\n",
              "      box-shadow: 0px 1px 2px rgba(60, 64, 67, 0.3), 0px 1px 3px 1px rgba(60, 64, 67, 0.15);\n",
              "      fill: #174EA6;\n",
              "    }\n",
              "\n",
              "    [theme=dark] .colab-df-convert {\n",
              "      background-color: #3B4455;\n",
              "      fill: #D2E3FC;\n",
              "    }\n",
              "\n",
              "    [theme=dark] .colab-df-convert:hover {\n",
              "      background-color: #434B5C;\n",
              "      box-shadow: 0px 1px 3px 1px rgba(0, 0, 0, 0.15);\n",
              "      filter: drop-shadow(0px 1px 2px rgba(0, 0, 0, 0.3));\n",
              "      fill: #FFFFFF;\n",
              "    }\n",
              "  </style>\n",
              "\n",
              "      <script>\n",
              "        const buttonEl =\n",
              "          document.querySelector('#df-b60726a7-2d6a-4777-97eb-b58a98d40b63 button.colab-df-convert');\n",
              "        buttonEl.style.display =\n",
              "          google.colab.kernel.accessAllowed ? 'block' : 'none';\n",
              "\n",
              "        async function convertToInteractive(key) {\n",
              "          const element = document.querySelector('#df-b60726a7-2d6a-4777-97eb-b58a98d40b63');\n",
              "          const dataTable =\n",
              "            await google.colab.kernel.invokeFunction('convertToInteractive',\n",
              "                                                     [key], {});\n",
              "          if (!dataTable) return;\n",
              "\n",
              "          const docLinkHtml = 'Like what you see? Visit the ' +\n",
              "            '<a target=\"_blank\" href=https://colab.research.google.com/notebooks/data_table.ipynb>data table notebook</a>'\n",
              "            + ' to learn more about interactive tables.';\n",
              "          element.innerHTML = '';\n",
              "          dataTable['output_type'] = 'display_data';\n",
              "          await google.colab.output.renderOutput(dataTable, element);\n",
              "          const docLink = document.createElement('div');\n",
              "          docLink.innerHTML = docLinkHtml;\n",
              "          element.appendChild(docLink);\n",
              "        }\n",
              "      </script>\n",
              "    </div>\n",
              "  </div>\n",
              "  "
            ]
          },
          "metadata": {},
          "execution_count": 57
        }
      ],
      "source": [
        "rate_list.head(15)"
      ]
    },
    {
      "cell_type": "code",
      "execution_count": 58,
      "metadata": {
        "colab": {
          "base_uri": "https://localhost:8080/",
          "height": 519
        },
        "id": "s17s_GhiOEfU",
        "outputId": "3a4a30e8-aa55-446c-994e-05acfe7e4efa"
      },
      "outputs": [
        {
          "output_type": "execute_result",
          "data": {
            "text/plain": [
              "     tournament_id  questions_rate  \\\n",
              "265           5601       -3.315908   \n",
              "542           6003       -3.339916   \n",
              "545           6008       -3.374867   \n",
              "351           5704       -3.462126   \n",
              "510           5955       -3.469388   \n",
              "613           6254       -3.479259   \n",
              "62            5313       -3.511188   \n",
              "493           5936       -3.523437   \n",
              "8             5011       -3.554267   \n",
              "150           5457       -3.583630   \n",
              "9             5012       -3.624807   \n",
              "345           5698       -3.746171   \n",
              "349           5702       -3.764495   \n",
              "6             5009       -3.796536   \n",
              "10            5013       -3.992627   \n",
              "\n",
              "                                                 name  rate_place  \n",
              "265              Межфакультетский кубок МГУ. Отбор №4         600  \n",
              "542  Второй тематический турнир имени Джоуи Триббиани         601  \n",
              "545                               Малый кубок Физтеха         602  \n",
              "351            (а)Синхрон-lite. Лига старта. Эпизод X         603  \n",
              "510                           Школьная лига. III тур.         604  \n",
              "613                                     Школьная лига         605  \n",
              "62            (а)Синхрон-lite. Лига старта. Эпизод VI         606  \n",
              "493                             Школьная лига. I тур.         607  \n",
              "8             (а)Синхрон-lite. Лига старта. Эпизод IV         608  \n",
              "150    Студенческий чемпионат Калининградской области         609  \n",
              "9                   Школьный Синхрон-lite. Выпуск 2.5         610  \n",
              "345          (а)Синхрон-lite. Лига старта. Эпизод VII         611  \n",
              "349           (а)Синхрон-lite. Лига старта. Эпизод IX         612  \n",
              "6            (а)Синхрон-lite. Лига старта. Эпизод III         613  \n",
              "10             (а)Синхрон-lite. Лига старта. Эпизод V         614  "
            ],
            "text/html": [
              "\n",
              "  <div id=\"df-997dc6e5-d16d-493f-b86b-4c9b33d085d8\">\n",
              "    <div class=\"colab-df-container\">\n",
              "      <div>\n",
              "<style scoped>\n",
              "    .dataframe tbody tr th:only-of-type {\n",
              "        vertical-align: middle;\n",
              "    }\n",
              "\n",
              "    .dataframe tbody tr th {\n",
              "        vertical-align: top;\n",
              "    }\n",
              "\n",
              "    .dataframe thead th {\n",
              "        text-align: right;\n",
              "    }\n",
              "</style>\n",
              "<table border=\"1\" class=\"dataframe\">\n",
              "  <thead>\n",
              "    <tr style=\"text-align: right;\">\n",
              "      <th></th>\n",
              "      <th>tournament_id</th>\n",
              "      <th>questions_rate</th>\n",
              "      <th>name</th>\n",
              "      <th>rate_place</th>\n",
              "    </tr>\n",
              "  </thead>\n",
              "  <tbody>\n",
              "    <tr>\n",
              "      <th>265</th>\n",
              "      <td>5601</td>\n",
              "      <td>-3.315908</td>\n",
              "      <td>Межфакультетский кубок МГУ. Отбор №4</td>\n",
              "      <td>600</td>\n",
              "    </tr>\n",
              "    <tr>\n",
              "      <th>542</th>\n",
              "      <td>6003</td>\n",
              "      <td>-3.339916</td>\n",
              "      <td>Второй тематический турнир имени Джоуи Триббиани</td>\n",
              "      <td>601</td>\n",
              "    </tr>\n",
              "    <tr>\n",
              "      <th>545</th>\n",
              "      <td>6008</td>\n",
              "      <td>-3.374867</td>\n",
              "      <td>Малый кубок Физтеха</td>\n",
              "      <td>602</td>\n",
              "    </tr>\n",
              "    <tr>\n",
              "      <th>351</th>\n",
              "      <td>5704</td>\n",
              "      <td>-3.462126</td>\n",
              "      <td>(а)Синхрон-lite. Лига старта. Эпизод X</td>\n",
              "      <td>603</td>\n",
              "    </tr>\n",
              "    <tr>\n",
              "      <th>510</th>\n",
              "      <td>5955</td>\n",
              "      <td>-3.469388</td>\n",
              "      <td>Школьная лига. III тур.</td>\n",
              "      <td>604</td>\n",
              "    </tr>\n",
              "    <tr>\n",
              "      <th>613</th>\n",
              "      <td>6254</td>\n",
              "      <td>-3.479259</td>\n",
              "      <td>Школьная лига</td>\n",
              "      <td>605</td>\n",
              "    </tr>\n",
              "    <tr>\n",
              "      <th>62</th>\n",
              "      <td>5313</td>\n",
              "      <td>-3.511188</td>\n",
              "      <td>(а)Синхрон-lite. Лига старта. Эпизод VI</td>\n",
              "      <td>606</td>\n",
              "    </tr>\n",
              "    <tr>\n",
              "      <th>493</th>\n",
              "      <td>5936</td>\n",
              "      <td>-3.523437</td>\n",
              "      <td>Школьная лига. I тур.</td>\n",
              "      <td>607</td>\n",
              "    </tr>\n",
              "    <tr>\n",
              "      <th>8</th>\n",
              "      <td>5011</td>\n",
              "      <td>-3.554267</td>\n",
              "      <td>(а)Синхрон-lite. Лига старта. Эпизод IV</td>\n",
              "      <td>608</td>\n",
              "    </tr>\n",
              "    <tr>\n",
              "      <th>150</th>\n",
              "      <td>5457</td>\n",
              "      <td>-3.583630</td>\n",
              "      <td>Студенческий чемпионат Калининградской области</td>\n",
              "      <td>609</td>\n",
              "    </tr>\n",
              "    <tr>\n",
              "      <th>9</th>\n",
              "      <td>5012</td>\n",
              "      <td>-3.624807</td>\n",
              "      <td>Школьный Синхрон-lite. Выпуск 2.5</td>\n",
              "      <td>610</td>\n",
              "    </tr>\n",
              "    <tr>\n",
              "      <th>345</th>\n",
              "      <td>5698</td>\n",
              "      <td>-3.746171</td>\n",
              "      <td>(а)Синхрон-lite. Лига старта. Эпизод VII</td>\n",
              "      <td>611</td>\n",
              "    </tr>\n",
              "    <tr>\n",
              "      <th>349</th>\n",
              "      <td>5702</td>\n",
              "      <td>-3.764495</td>\n",
              "      <td>(а)Синхрон-lite. Лига старта. Эпизод IX</td>\n",
              "      <td>612</td>\n",
              "    </tr>\n",
              "    <tr>\n",
              "      <th>6</th>\n",
              "      <td>5009</td>\n",
              "      <td>-3.796536</td>\n",
              "      <td>(а)Синхрон-lite. Лига старта. Эпизод III</td>\n",
              "      <td>613</td>\n",
              "    </tr>\n",
              "    <tr>\n",
              "      <th>10</th>\n",
              "      <td>5013</td>\n",
              "      <td>-3.992627</td>\n",
              "      <td>(а)Синхрон-lite. Лига старта. Эпизод V</td>\n",
              "      <td>614</td>\n",
              "    </tr>\n",
              "  </tbody>\n",
              "</table>\n",
              "</div>\n",
              "      <button class=\"colab-df-convert\" onclick=\"convertToInteractive('df-997dc6e5-d16d-493f-b86b-4c9b33d085d8')\"\n",
              "              title=\"Convert this dataframe to an interactive table.\"\n",
              "              style=\"display:none;\">\n",
              "        \n",
              "  <svg xmlns=\"http://www.w3.org/2000/svg\" height=\"24px\"viewBox=\"0 0 24 24\"\n",
              "       width=\"24px\">\n",
              "    <path d=\"M0 0h24v24H0V0z\" fill=\"none\"/>\n",
              "    <path d=\"M18.56 5.44l.94 2.06.94-2.06 2.06-.94-2.06-.94-.94-2.06-.94 2.06-2.06.94zm-11 1L8.5 8.5l.94-2.06 2.06-.94-2.06-.94L8.5 2.5l-.94 2.06-2.06.94zm10 10l.94 2.06.94-2.06 2.06-.94-2.06-.94-.94-2.06-.94 2.06-2.06.94z\"/><path d=\"M17.41 7.96l-1.37-1.37c-.4-.4-.92-.59-1.43-.59-.52 0-1.04.2-1.43.59L10.3 9.45l-7.72 7.72c-.78.78-.78 2.05 0 2.83L4 21.41c.39.39.9.59 1.41.59.51 0 1.02-.2 1.41-.59l7.78-7.78 2.81-2.81c.8-.78.8-2.07 0-2.86zM5.41 20L4 18.59l7.72-7.72 1.47 1.35L5.41 20z\"/>\n",
              "  </svg>\n",
              "      </button>\n",
              "      \n",
              "  <style>\n",
              "    .colab-df-container {\n",
              "      display:flex;\n",
              "      flex-wrap:wrap;\n",
              "      gap: 12px;\n",
              "    }\n",
              "\n",
              "    .colab-df-convert {\n",
              "      background-color: #E8F0FE;\n",
              "      border: none;\n",
              "      border-radius: 50%;\n",
              "      cursor: pointer;\n",
              "      display: none;\n",
              "      fill: #1967D2;\n",
              "      height: 32px;\n",
              "      padding: 0 0 0 0;\n",
              "      width: 32px;\n",
              "    }\n",
              "\n",
              "    .colab-df-convert:hover {\n",
              "      background-color: #E2EBFA;\n",
              "      box-shadow: 0px 1px 2px rgba(60, 64, 67, 0.3), 0px 1px 3px 1px rgba(60, 64, 67, 0.15);\n",
              "      fill: #174EA6;\n",
              "    }\n",
              "\n",
              "    [theme=dark] .colab-df-convert {\n",
              "      background-color: #3B4455;\n",
              "      fill: #D2E3FC;\n",
              "    }\n",
              "\n",
              "    [theme=dark] .colab-df-convert:hover {\n",
              "      background-color: #434B5C;\n",
              "      box-shadow: 0px 1px 3px 1px rgba(0, 0, 0, 0.15);\n",
              "      filter: drop-shadow(0px 1px 2px rgba(0, 0, 0, 0.3));\n",
              "      fill: #FFFFFF;\n",
              "    }\n",
              "  </style>\n",
              "\n",
              "      <script>\n",
              "        const buttonEl =\n",
              "          document.querySelector('#df-997dc6e5-d16d-493f-b86b-4c9b33d085d8 button.colab-df-convert');\n",
              "        buttonEl.style.display =\n",
              "          google.colab.kernel.accessAllowed ? 'block' : 'none';\n",
              "\n",
              "        async function convertToInteractive(key) {\n",
              "          const element = document.querySelector('#df-997dc6e5-d16d-493f-b86b-4c9b33d085d8');\n",
              "          const dataTable =\n",
              "            await google.colab.kernel.invokeFunction('convertToInteractive',\n",
              "                                                     [key], {});\n",
              "          if (!dataTable) return;\n",
              "\n",
              "          const docLinkHtml = 'Like what you see? Visit the ' +\n",
              "            '<a target=\"_blank\" href=https://colab.research.google.com/notebooks/data_table.ipynb>data table notebook</a>'\n",
              "            + ' to learn more about interactive tables.';\n",
              "          element.innerHTML = '';\n",
              "          dataTable['output_type'] = 'display_data';\n",
              "          await google.colab.output.renderOutput(dataTable, element);\n",
              "          const docLink = document.createElement('div');\n",
              "          docLink.innerHTML = docLinkHtml;\n",
              "          element.appendChild(docLink);\n",
              "        }\n",
              "      </script>\n",
              "    </div>\n",
              "  </div>\n",
              "  "
            ]
          },
          "metadata": {},
          "execution_count": 58
        }
      ],
      "source": [
        "rate_list.tail(15)"
      ]
    },
    {
      "cell_type": "markdown",
      "metadata": {
        "id": "KwJA9iSHQ699"
      },
      "source": [
        "Исходя из результатов видно, что школьные турниры внизу рейтинга. Более престижные турниры вверху списка."
      ]
    },
    {
      "cell_type": "code",
      "execution_count": 59,
      "metadata": {
        "id": "HzMrz1QbPqFO"
      },
      "outputs": [],
      "source": [
        "question_best = best_model.coef_[num_of_players:]\n",
        "em_index_q = dict(np.column_stack((encoder.categories_[1], question_best)))"
      ]
    },
    {
      "cell_type": "code",
      "execution_count": 60,
      "metadata": {
        "id": "9st0P4f_PwzZ"
      },
      "outputs": [],
      "source": [
        "em_rate_list = train_data[['tournament_id', 'ask_num_new']].drop_duplicates()\n",
        "em_rate_list['questions_rate'] = -1 * em_rate_list['ask_num_new'].map(em_index_q)\n",
        "em_rate_list = em_rate_list.groupby('tournament_id')['questions_rate'].mean().reset_index()\n",
        "em_rate_list = em_rate_list.merge(tournaments_df[['name']], left_on='tournament_id', right_index=True)\n",
        "em_rate_list = em_rate_list.sort_values(by='questions_rate', ascending=False)\n",
        "em_rate_list['rate_place'] = np.arange(len(em_rate_list)) + 1"
      ]
    },
    {
      "cell_type": "code",
      "execution_count": 61,
      "metadata": {
        "colab": {
          "base_uri": "https://localhost:8080/",
          "height": 519
        },
        "id": "g935-dGid1tL",
        "outputId": "5e8aafd3-0af5-4268-9bc4-8b245f1f86f2"
      },
      "outputs": [
        {
          "output_type": "execute_result",
          "data": {
            "text/plain": [
              "     tournament_id  questions_rate                                     name  \\\n",
              "603           6149        5.689015  Чемпионат Санкт-Петербурга. Первая лига   \n",
              "488           5928        4.102645                              Угрюмый Ёрш   \n",
              "35            5159        3.375285             Первенство правого полушария   \n",
              "503           5946        3.212286         Чемпионат Мира. Этап 3. Группа В   \n",
              "579           6101        3.174446                       Воображаемый музей   \n",
              "22            5083        3.135833                        Ускользающая сова   \n",
              "254           5587        3.128602                         Записки охотника   \n",
              "342           5693        3.123521                         Знание – Сила VI   \n",
              "504           5947        3.104274         Чемпионат Мира. Этап 3. Группа С   \n",
              "499           5942        3.089786         Чемпионат Мира. Этап 2. Группа В   \n",
              "539           5996        3.074526                 Тихий Донец: омут первый   \n",
              "507           5950        3.018414          Чемпионат Мира. Финал. Группа С   \n",
              "157           5465        3.009753                         Чемпионат России   \n",
              "124           5421        2.990947                     Львов зимой. Адвокат   \n",
              "367           5741        2.965095                   All Cats Are Beautiful   \n",
              "\n",
              "     rate_place  \n",
              "603           1  \n",
              "488           2  \n",
              "35            3  \n",
              "503           4  \n",
              "579           5  \n",
              "22            6  \n",
              "254           7  \n",
              "342           8  \n",
              "504           9  \n",
              "499          10  \n",
              "539          11  \n",
              "507          12  \n",
              "157          13  \n",
              "124          14  \n",
              "367          15  "
            ],
            "text/html": [
              "\n",
              "  <div id=\"df-96ca50c4-63f5-451a-8477-305fb4d6b493\">\n",
              "    <div class=\"colab-df-container\">\n",
              "      <div>\n",
              "<style scoped>\n",
              "    .dataframe tbody tr th:only-of-type {\n",
              "        vertical-align: middle;\n",
              "    }\n",
              "\n",
              "    .dataframe tbody tr th {\n",
              "        vertical-align: top;\n",
              "    }\n",
              "\n",
              "    .dataframe thead th {\n",
              "        text-align: right;\n",
              "    }\n",
              "</style>\n",
              "<table border=\"1\" class=\"dataframe\">\n",
              "  <thead>\n",
              "    <tr style=\"text-align: right;\">\n",
              "      <th></th>\n",
              "      <th>tournament_id</th>\n",
              "      <th>questions_rate</th>\n",
              "      <th>name</th>\n",
              "      <th>rate_place</th>\n",
              "    </tr>\n",
              "  </thead>\n",
              "  <tbody>\n",
              "    <tr>\n",
              "      <th>603</th>\n",
              "      <td>6149</td>\n",
              "      <td>5.689015</td>\n",
              "      <td>Чемпионат Санкт-Петербурга. Первая лига</td>\n",
              "      <td>1</td>\n",
              "    </tr>\n",
              "    <tr>\n",
              "      <th>488</th>\n",
              "      <td>5928</td>\n",
              "      <td>4.102645</td>\n",
              "      <td>Угрюмый Ёрш</td>\n",
              "      <td>2</td>\n",
              "    </tr>\n",
              "    <tr>\n",
              "      <th>35</th>\n",
              "      <td>5159</td>\n",
              "      <td>3.375285</td>\n",
              "      <td>Первенство правого полушария</td>\n",
              "      <td>3</td>\n",
              "    </tr>\n",
              "    <tr>\n",
              "      <th>503</th>\n",
              "      <td>5946</td>\n",
              "      <td>3.212286</td>\n",
              "      <td>Чемпионат Мира. Этап 3. Группа В</td>\n",
              "      <td>4</td>\n",
              "    </tr>\n",
              "    <tr>\n",
              "      <th>579</th>\n",
              "      <td>6101</td>\n",
              "      <td>3.174446</td>\n",
              "      <td>Воображаемый музей</td>\n",
              "      <td>5</td>\n",
              "    </tr>\n",
              "    <tr>\n",
              "      <th>22</th>\n",
              "      <td>5083</td>\n",
              "      <td>3.135833</td>\n",
              "      <td>Ускользающая сова</td>\n",
              "      <td>6</td>\n",
              "    </tr>\n",
              "    <tr>\n",
              "      <th>254</th>\n",
              "      <td>5587</td>\n",
              "      <td>3.128602</td>\n",
              "      <td>Записки охотника</td>\n",
              "      <td>7</td>\n",
              "    </tr>\n",
              "    <tr>\n",
              "      <th>342</th>\n",
              "      <td>5693</td>\n",
              "      <td>3.123521</td>\n",
              "      <td>Знание – Сила VI</td>\n",
              "      <td>8</td>\n",
              "    </tr>\n",
              "    <tr>\n",
              "      <th>504</th>\n",
              "      <td>5947</td>\n",
              "      <td>3.104274</td>\n",
              "      <td>Чемпионат Мира. Этап 3. Группа С</td>\n",
              "      <td>9</td>\n",
              "    </tr>\n",
              "    <tr>\n",
              "      <th>499</th>\n",
              "      <td>5942</td>\n",
              "      <td>3.089786</td>\n",
              "      <td>Чемпионат Мира. Этап 2. Группа В</td>\n",
              "      <td>10</td>\n",
              "    </tr>\n",
              "    <tr>\n",
              "      <th>539</th>\n",
              "      <td>5996</td>\n",
              "      <td>3.074526</td>\n",
              "      <td>Тихий Донец: омут первый</td>\n",
              "      <td>11</td>\n",
              "    </tr>\n",
              "    <tr>\n",
              "      <th>507</th>\n",
              "      <td>5950</td>\n",
              "      <td>3.018414</td>\n",
              "      <td>Чемпионат Мира. Финал. Группа С</td>\n",
              "      <td>12</td>\n",
              "    </tr>\n",
              "    <tr>\n",
              "      <th>157</th>\n",
              "      <td>5465</td>\n",
              "      <td>3.009753</td>\n",
              "      <td>Чемпионат России</td>\n",
              "      <td>13</td>\n",
              "    </tr>\n",
              "    <tr>\n",
              "      <th>124</th>\n",
              "      <td>5421</td>\n",
              "      <td>2.990947</td>\n",
              "      <td>Львов зимой. Адвокат</td>\n",
              "      <td>14</td>\n",
              "    </tr>\n",
              "    <tr>\n",
              "      <th>367</th>\n",
              "      <td>5741</td>\n",
              "      <td>2.965095</td>\n",
              "      <td>All Cats Are Beautiful</td>\n",
              "      <td>15</td>\n",
              "    </tr>\n",
              "  </tbody>\n",
              "</table>\n",
              "</div>\n",
              "      <button class=\"colab-df-convert\" onclick=\"convertToInteractive('df-96ca50c4-63f5-451a-8477-305fb4d6b493')\"\n",
              "              title=\"Convert this dataframe to an interactive table.\"\n",
              "              style=\"display:none;\">\n",
              "        \n",
              "  <svg xmlns=\"http://www.w3.org/2000/svg\" height=\"24px\"viewBox=\"0 0 24 24\"\n",
              "       width=\"24px\">\n",
              "    <path d=\"M0 0h24v24H0V0z\" fill=\"none\"/>\n",
              "    <path d=\"M18.56 5.44l.94 2.06.94-2.06 2.06-.94-2.06-.94-.94-2.06-.94 2.06-2.06.94zm-11 1L8.5 8.5l.94-2.06 2.06-.94-2.06-.94L8.5 2.5l-.94 2.06-2.06.94zm10 10l.94 2.06.94-2.06 2.06-.94-2.06-.94-.94-2.06-.94 2.06-2.06.94z\"/><path d=\"M17.41 7.96l-1.37-1.37c-.4-.4-.92-.59-1.43-.59-.52 0-1.04.2-1.43.59L10.3 9.45l-7.72 7.72c-.78.78-.78 2.05 0 2.83L4 21.41c.39.39.9.59 1.41.59.51 0 1.02-.2 1.41-.59l7.78-7.78 2.81-2.81c.8-.78.8-2.07 0-2.86zM5.41 20L4 18.59l7.72-7.72 1.47 1.35L5.41 20z\"/>\n",
              "  </svg>\n",
              "      </button>\n",
              "      \n",
              "  <style>\n",
              "    .colab-df-container {\n",
              "      display:flex;\n",
              "      flex-wrap:wrap;\n",
              "      gap: 12px;\n",
              "    }\n",
              "\n",
              "    .colab-df-convert {\n",
              "      background-color: #E8F0FE;\n",
              "      border: none;\n",
              "      border-radius: 50%;\n",
              "      cursor: pointer;\n",
              "      display: none;\n",
              "      fill: #1967D2;\n",
              "      height: 32px;\n",
              "      padding: 0 0 0 0;\n",
              "      width: 32px;\n",
              "    }\n",
              "\n",
              "    .colab-df-convert:hover {\n",
              "      background-color: #E2EBFA;\n",
              "      box-shadow: 0px 1px 2px rgba(60, 64, 67, 0.3), 0px 1px 3px 1px rgba(60, 64, 67, 0.15);\n",
              "      fill: #174EA6;\n",
              "    }\n",
              "\n",
              "    [theme=dark] .colab-df-convert {\n",
              "      background-color: #3B4455;\n",
              "      fill: #D2E3FC;\n",
              "    }\n",
              "\n",
              "    [theme=dark] .colab-df-convert:hover {\n",
              "      background-color: #434B5C;\n",
              "      box-shadow: 0px 1px 3px 1px rgba(0, 0, 0, 0.15);\n",
              "      filter: drop-shadow(0px 1px 2px rgba(0, 0, 0, 0.3));\n",
              "      fill: #FFFFFF;\n",
              "    }\n",
              "  </style>\n",
              "\n",
              "      <script>\n",
              "        const buttonEl =\n",
              "          document.querySelector('#df-96ca50c4-63f5-451a-8477-305fb4d6b493 button.colab-df-convert');\n",
              "        buttonEl.style.display =\n",
              "          google.colab.kernel.accessAllowed ? 'block' : 'none';\n",
              "\n",
              "        async function convertToInteractive(key) {\n",
              "          const element = document.querySelector('#df-96ca50c4-63f5-451a-8477-305fb4d6b493');\n",
              "          const dataTable =\n",
              "            await google.colab.kernel.invokeFunction('convertToInteractive',\n",
              "                                                     [key], {});\n",
              "          if (!dataTable) return;\n",
              "\n",
              "          const docLinkHtml = 'Like what you see? Visit the ' +\n",
              "            '<a target=\"_blank\" href=https://colab.research.google.com/notebooks/data_table.ipynb>data table notebook</a>'\n",
              "            + ' to learn more about interactive tables.';\n",
              "          element.innerHTML = '';\n",
              "          dataTable['output_type'] = 'display_data';\n",
              "          await google.colab.output.renderOutput(dataTable, element);\n",
              "          const docLink = document.createElement('div');\n",
              "          docLink.innerHTML = docLinkHtml;\n",
              "          element.appendChild(docLink);\n",
              "        }\n",
              "      </script>\n",
              "    </div>\n",
              "  </div>\n",
              "  "
            ]
          },
          "metadata": {},
          "execution_count": 61
        }
      ],
      "source": [
        "em_rate_list.head(15)"
      ]
    },
    {
      "cell_type": "code",
      "execution_count": 62,
      "metadata": {
        "colab": {
          "base_uri": "https://localhost:8080/",
          "height": 519
        },
        "id": "vOIj7tgQd65j",
        "outputId": "b4b267ee-a138-4371-f166-9c58714227a2"
      },
      "outputs": [
        {
          "output_type": "execute_result",
          "data": {
            "text/plain": [
              "     tournament_id  questions_rate  \\\n",
              "265           5601       -3.436452   \n",
              "509           5954       -3.456683   \n",
              "216           5535       -3.528545   \n",
              "542           6003       -3.555238   \n",
              "613           6254       -3.646196   \n",
              "345           5698       -3.661613   \n",
              "493           5936       -3.670910   \n",
              "422           5827       -3.704783   \n",
              "6             5009       -3.711885   \n",
              "510           5955       -3.783036   \n",
              "349           5702       -3.801441   \n",
              "9             5012       -3.850558   \n",
              "10            5013       -4.351887   \n",
              "150           5457       -4.824362   \n",
              "514           5963       -6.232868   \n",
              "\n",
              "                                                 name  rate_place  \n",
              "265              Межфакультетский кубок МГУ. Отбор №4         600  \n",
              "509                            Школьная лига. II тур.         601  \n",
              "216                                  Кубок Тышкевичей         602  \n",
              "542  Второй тематический турнир имени Джоуи Триббиани         603  \n",
              "613                                     Школьная лига         604  \n",
              "345          (а)Синхрон-lite. Лига старта. Эпизод VII         605  \n",
              "493                             Школьная лига. I тур.         606  \n",
              "422                 Шестой киевский марафон. Асинхрон         607  \n",
              "6            (а)Синхрон-lite. Лига старта. Эпизод III         608  \n",
              "510                           Школьная лига. III тур.         609  \n",
              "349           (а)Синхрон-lite. Лига старта. Эпизод IX         610  \n",
              "9                   Школьный Синхрон-lite. Выпуск 2.5         611  \n",
              "10             (а)Синхрон-lite. Лига старта. Эпизод V         612  \n",
              "150    Студенческий чемпионат Калининградской области         613  \n",
              "514                            Асинхрон по South Park         614  "
            ],
            "text/html": [
              "\n",
              "  <div id=\"df-d420b082-a3b7-47fb-8eae-12467752b988\">\n",
              "    <div class=\"colab-df-container\">\n",
              "      <div>\n",
              "<style scoped>\n",
              "    .dataframe tbody tr th:only-of-type {\n",
              "        vertical-align: middle;\n",
              "    }\n",
              "\n",
              "    .dataframe tbody tr th {\n",
              "        vertical-align: top;\n",
              "    }\n",
              "\n",
              "    .dataframe thead th {\n",
              "        text-align: right;\n",
              "    }\n",
              "</style>\n",
              "<table border=\"1\" class=\"dataframe\">\n",
              "  <thead>\n",
              "    <tr style=\"text-align: right;\">\n",
              "      <th></th>\n",
              "      <th>tournament_id</th>\n",
              "      <th>questions_rate</th>\n",
              "      <th>name</th>\n",
              "      <th>rate_place</th>\n",
              "    </tr>\n",
              "  </thead>\n",
              "  <tbody>\n",
              "    <tr>\n",
              "      <th>265</th>\n",
              "      <td>5601</td>\n",
              "      <td>-3.436452</td>\n",
              "      <td>Межфакультетский кубок МГУ. Отбор №4</td>\n",
              "      <td>600</td>\n",
              "    </tr>\n",
              "    <tr>\n",
              "      <th>509</th>\n",
              "      <td>5954</td>\n",
              "      <td>-3.456683</td>\n",
              "      <td>Школьная лига. II тур.</td>\n",
              "      <td>601</td>\n",
              "    </tr>\n",
              "    <tr>\n",
              "      <th>216</th>\n",
              "      <td>5535</td>\n",
              "      <td>-3.528545</td>\n",
              "      <td>Кубок Тышкевичей</td>\n",
              "      <td>602</td>\n",
              "    </tr>\n",
              "    <tr>\n",
              "      <th>542</th>\n",
              "      <td>6003</td>\n",
              "      <td>-3.555238</td>\n",
              "      <td>Второй тематический турнир имени Джоуи Триббиани</td>\n",
              "      <td>603</td>\n",
              "    </tr>\n",
              "    <tr>\n",
              "      <th>613</th>\n",
              "      <td>6254</td>\n",
              "      <td>-3.646196</td>\n",
              "      <td>Школьная лига</td>\n",
              "      <td>604</td>\n",
              "    </tr>\n",
              "    <tr>\n",
              "      <th>345</th>\n",
              "      <td>5698</td>\n",
              "      <td>-3.661613</td>\n",
              "      <td>(а)Синхрон-lite. Лига старта. Эпизод VII</td>\n",
              "      <td>605</td>\n",
              "    </tr>\n",
              "    <tr>\n",
              "      <th>493</th>\n",
              "      <td>5936</td>\n",
              "      <td>-3.670910</td>\n",
              "      <td>Школьная лига. I тур.</td>\n",
              "      <td>606</td>\n",
              "    </tr>\n",
              "    <tr>\n",
              "      <th>422</th>\n",
              "      <td>5827</td>\n",
              "      <td>-3.704783</td>\n",
              "      <td>Шестой киевский марафон. Асинхрон</td>\n",
              "      <td>607</td>\n",
              "    </tr>\n",
              "    <tr>\n",
              "      <th>6</th>\n",
              "      <td>5009</td>\n",
              "      <td>-3.711885</td>\n",
              "      <td>(а)Синхрон-lite. Лига старта. Эпизод III</td>\n",
              "      <td>608</td>\n",
              "    </tr>\n",
              "    <tr>\n",
              "      <th>510</th>\n",
              "      <td>5955</td>\n",
              "      <td>-3.783036</td>\n",
              "      <td>Школьная лига. III тур.</td>\n",
              "      <td>609</td>\n",
              "    </tr>\n",
              "    <tr>\n",
              "      <th>349</th>\n",
              "      <td>5702</td>\n",
              "      <td>-3.801441</td>\n",
              "      <td>(а)Синхрон-lite. Лига старта. Эпизод IX</td>\n",
              "      <td>610</td>\n",
              "    </tr>\n",
              "    <tr>\n",
              "      <th>9</th>\n",
              "      <td>5012</td>\n",
              "      <td>-3.850558</td>\n",
              "      <td>Школьный Синхрон-lite. Выпуск 2.5</td>\n",
              "      <td>611</td>\n",
              "    </tr>\n",
              "    <tr>\n",
              "      <th>10</th>\n",
              "      <td>5013</td>\n",
              "      <td>-4.351887</td>\n",
              "      <td>(а)Синхрон-lite. Лига старта. Эпизод V</td>\n",
              "      <td>612</td>\n",
              "    </tr>\n",
              "    <tr>\n",
              "      <th>150</th>\n",
              "      <td>5457</td>\n",
              "      <td>-4.824362</td>\n",
              "      <td>Студенческий чемпионат Калининградской области</td>\n",
              "      <td>613</td>\n",
              "    </tr>\n",
              "    <tr>\n",
              "      <th>514</th>\n",
              "      <td>5963</td>\n",
              "      <td>-6.232868</td>\n",
              "      <td>Асинхрон по South Park</td>\n",
              "      <td>614</td>\n",
              "    </tr>\n",
              "  </tbody>\n",
              "</table>\n",
              "</div>\n",
              "      <button class=\"colab-df-convert\" onclick=\"convertToInteractive('df-d420b082-a3b7-47fb-8eae-12467752b988')\"\n",
              "              title=\"Convert this dataframe to an interactive table.\"\n",
              "              style=\"display:none;\">\n",
              "        \n",
              "  <svg xmlns=\"http://www.w3.org/2000/svg\" height=\"24px\"viewBox=\"0 0 24 24\"\n",
              "       width=\"24px\">\n",
              "    <path d=\"M0 0h24v24H0V0z\" fill=\"none\"/>\n",
              "    <path d=\"M18.56 5.44l.94 2.06.94-2.06 2.06-.94-2.06-.94-.94-2.06-.94 2.06-2.06.94zm-11 1L8.5 8.5l.94-2.06 2.06-.94-2.06-.94L8.5 2.5l-.94 2.06-2.06.94zm10 10l.94 2.06.94-2.06 2.06-.94-2.06-.94-.94-2.06-.94 2.06-2.06.94z\"/><path d=\"M17.41 7.96l-1.37-1.37c-.4-.4-.92-.59-1.43-.59-.52 0-1.04.2-1.43.59L10.3 9.45l-7.72 7.72c-.78.78-.78 2.05 0 2.83L4 21.41c.39.39.9.59 1.41.59.51 0 1.02-.2 1.41-.59l7.78-7.78 2.81-2.81c.8-.78.8-2.07 0-2.86zM5.41 20L4 18.59l7.72-7.72 1.47 1.35L5.41 20z\"/>\n",
              "  </svg>\n",
              "      </button>\n",
              "      \n",
              "  <style>\n",
              "    .colab-df-container {\n",
              "      display:flex;\n",
              "      flex-wrap:wrap;\n",
              "      gap: 12px;\n",
              "    }\n",
              "\n",
              "    .colab-df-convert {\n",
              "      background-color: #E8F0FE;\n",
              "      border: none;\n",
              "      border-radius: 50%;\n",
              "      cursor: pointer;\n",
              "      display: none;\n",
              "      fill: #1967D2;\n",
              "      height: 32px;\n",
              "      padding: 0 0 0 0;\n",
              "      width: 32px;\n",
              "    }\n",
              "\n",
              "    .colab-df-convert:hover {\n",
              "      background-color: #E2EBFA;\n",
              "      box-shadow: 0px 1px 2px rgba(60, 64, 67, 0.3), 0px 1px 3px 1px rgba(60, 64, 67, 0.15);\n",
              "      fill: #174EA6;\n",
              "    }\n",
              "\n",
              "    [theme=dark] .colab-df-convert {\n",
              "      background-color: #3B4455;\n",
              "      fill: #D2E3FC;\n",
              "    }\n",
              "\n",
              "    [theme=dark] .colab-df-convert:hover {\n",
              "      background-color: #434B5C;\n",
              "      box-shadow: 0px 1px 3px 1px rgba(0, 0, 0, 0.15);\n",
              "      filter: drop-shadow(0px 1px 2px rgba(0, 0, 0, 0.3));\n",
              "      fill: #FFFFFF;\n",
              "    }\n",
              "  </style>\n",
              "\n",
              "      <script>\n",
              "        const buttonEl =\n",
              "          document.querySelector('#df-d420b082-a3b7-47fb-8eae-12467752b988 button.colab-df-convert');\n",
              "        buttonEl.style.display =\n",
              "          google.colab.kernel.accessAllowed ? 'block' : 'none';\n",
              "\n",
              "        async function convertToInteractive(key) {\n",
              "          const element = document.querySelector('#df-d420b082-a3b7-47fb-8eae-12467752b988');\n",
              "          const dataTable =\n",
              "            await google.colab.kernel.invokeFunction('convertToInteractive',\n",
              "                                                     [key], {});\n",
              "          if (!dataTable) return;\n",
              "\n",
              "          const docLinkHtml = 'Like what you see? Visit the ' +\n",
              "            '<a target=\"_blank\" href=https://colab.research.google.com/notebooks/data_table.ipynb>data table notebook</a>'\n",
              "            + ' to learn more about interactive tables.';\n",
              "          element.innerHTML = '';\n",
              "          dataTable['output_type'] = 'display_data';\n",
              "          await google.colab.output.renderOutput(dataTable, element);\n",
              "          const docLink = document.createElement('div');\n",
              "          docLink.innerHTML = docLinkHtml;\n",
              "          element.appendChild(docLink);\n",
              "        }\n",
              "      </script>\n",
              "    </div>\n",
              "  </div>\n",
              "  "
            ]
          },
          "metadata": {},
          "execution_count": 62
        }
      ],
      "source": [
        "em_rate_list.tail(15)"
      ]
    },
    {
      "cell_type": "markdown",
      "metadata": {
        "id": "438Z13ruRGrL"
      },
      "source": [
        "Тоже самое с моделью после EM алгоритма"
      ]
    }
  ],
  "metadata": {
    "colab": {
      "collapsed_sections": [],
      "name": "made_ml_2",
      "provenance": [],
      "include_colab_link": true
    },
    "kernelspec": {
      "display_name": "Python 3",
      "language": "python",
      "name": "python3"
    },
    "language_info": {
      "codemirror_mode": {
        "name": "ipython",
        "version": 3
      },
      "file_extension": ".py",
      "mimetype": "text/x-python",
      "name": "python",
      "nbconvert_exporter": "python",
      "pygments_lexer": "ipython3",
      "version": "3.8.2"
    }
  },
  "nbformat": 4,
  "nbformat_minor": 0
}